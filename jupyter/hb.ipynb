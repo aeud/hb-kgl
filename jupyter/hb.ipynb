{
 "cells": [
  {
   "cell_type": "markdown",
   "metadata": {
    "deletable": true,
    "editable": true
   },
   "source": [
    "# HB\n",
    "_______\n",
    "\n",
    "## Objective\n",
    "\n",
    "This exercise is the resolution of the Kaggle problem [Give Me Some Credit](https://www.kaggle.com/c/GiveMeSomeCredit/l).\n",
    "\n",
    "To reformulate it, we will consider `cs-training.csv` dataset, remove the 1st column (index) and try to find the best algorithm to predict Column 2 `SeriousDlqin2yrs`, based on the other ones.\n",
    "\n",
    "As `SeriousDlqin2yrs` has 2 values only, this is a classification problem. With the [scikit-learn](http://scikit-learn.org/) Python library we will apply different algorithms, and try to find the best one. As it becomes an optimization problem, we have to choose a measure to optimize: we'll use the **AUC (Area Under the Curve)**, applied on a subset and its complimentary of the original training dataset.\n",
    "I think the challenge chose this metric because the **AUC** of the **ROC curve** is a perfect indicator for *binary classification*.\n",
    "I chose of **AUC**, to fit with the the challenge, and also because it's quite easy to analyse the results by simply reading the curve. Also the implementation in *scikit-learn* is great.\n",
    "About the alternative, we'll implement a **Confusion Matrix** based evaluation, but the results are not so easy to interpret, and improve. \n",
    "\n",
    "To determine the subsets and their complementaries, we'll use **Cross-Validation**\n",
    "\n",
    "We're working on a pretty standard Data Science Stack: `Jupyter` + `Python3` + `Pandas` + `Matplotlib` + `sklearn`\n",
    "Everything is virtualized behind *Docker* "
   ]
  },
  {
   "cell_type": "code",
   "execution_count": null,
   "metadata": {
    "collapsed": true,
    "deletable": true,
    "editable": true
   },
   "outputs": [],
   "source": [
    "import pandas as pd\n",
    "import numpy as np\n",
    "import matplotlib.pyplot as plt\n",
    "%matplotlib inline"
   ]
  },
  {
   "cell_type": "markdown",
   "metadata": {
    "deletable": true,
    "editable": true
   },
   "source": [
    "## Load dataset"
   ]
  },
  {
   "cell_type": "code",
   "execution_count": null,
   "metadata": {
    "collapsed": true,
    "deletable": true,
    "editable": true
   },
   "outputs": [],
   "source": [
    "data = pd.read_csv('data/cs-training.csv').drop('Unnamed: 0', axis = 1)"
   ]
  },
  {
   "cell_type": "markdown",
   "metadata": {
    "deletable": true,
    "editable": true
   },
   "source": [
    "## First try\n",
    "We have a classification model, we try to predict the value (1 or 0) of `SeriousDlqin2yrs`."
   ]
  },
  {
   "cell_type": "code",
   "execution_count": null,
   "metadata": {
    "collapsed": true,
    "deletable": true,
    "editable": true
   },
   "outputs": [],
   "source": [
    "X = data.drop('SeriousDlqin2yrs', axis=1)\n",
    "y = data.SeriousDlqin2yrs"
   ]
  },
  {
   "cell_type": "code",
   "execution_count": 392,
   "metadata": {
    "collapsed": false,
    "deletable": true,
    "editable": true
   },
   "outputs": [
    {
     "data": {
      "text/html": [
       "<div>\n",
       "<table border=\"1\" class=\"dataframe\">\n",
       "  <thead>\n",
       "    <tr style=\"text-align: right;\">\n",
       "      <th></th>\n",
       "      <th>RevolvingUtilizationOfUnsecuredLines</th>\n",
       "      <th>age</th>\n",
       "      <th>NumberOfTime30-59DaysPastDueNotWorse</th>\n",
       "      <th>DebtRatio</th>\n",
       "      <th>MonthlyIncome</th>\n",
       "      <th>NumberOfOpenCreditLinesAndLoans</th>\n",
       "      <th>NumberOfTimes90DaysLate</th>\n",
       "      <th>NumberRealEstateLoansOrLines</th>\n",
       "      <th>NumberOfTime60-89DaysPastDueNotWorse</th>\n",
       "      <th>NumberOfDependents</th>\n",
       "    </tr>\n",
       "  </thead>\n",
       "  <tbody>\n",
       "    <tr>\n",
       "      <th>count</th>\n",
       "      <td>150000.000000</td>\n",
       "      <td>150000.000000</td>\n",
       "      <td>150000.000000</td>\n",
       "      <td>150000.000000</td>\n",
       "      <td>1.202690e+05</td>\n",
       "      <td>150000.000000</td>\n",
       "      <td>150000.000000</td>\n",
       "      <td>150000.000000</td>\n",
       "      <td>150000.000000</td>\n",
       "      <td>146076.000000</td>\n",
       "    </tr>\n",
       "    <tr>\n",
       "      <th>mean</th>\n",
       "      <td>6.048438</td>\n",
       "      <td>52.295207</td>\n",
       "      <td>0.421033</td>\n",
       "      <td>353.005076</td>\n",
       "      <td>6.670221e+03</td>\n",
       "      <td>8.452760</td>\n",
       "      <td>0.265973</td>\n",
       "      <td>1.018240</td>\n",
       "      <td>0.240387</td>\n",
       "      <td>0.757222</td>\n",
       "    </tr>\n",
       "    <tr>\n",
       "      <th>std</th>\n",
       "      <td>249.755371</td>\n",
       "      <td>14.771866</td>\n",
       "      <td>4.192781</td>\n",
       "      <td>2037.818523</td>\n",
       "      <td>1.438467e+04</td>\n",
       "      <td>5.145951</td>\n",
       "      <td>4.169304</td>\n",
       "      <td>1.129771</td>\n",
       "      <td>4.155179</td>\n",
       "      <td>1.115086</td>\n",
       "    </tr>\n",
       "    <tr>\n",
       "      <th>min</th>\n",
       "      <td>0.000000</td>\n",
       "      <td>0.000000</td>\n",
       "      <td>0.000000</td>\n",
       "      <td>0.000000</td>\n",
       "      <td>0.000000e+00</td>\n",
       "      <td>0.000000</td>\n",
       "      <td>0.000000</td>\n",
       "      <td>0.000000</td>\n",
       "      <td>0.000000</td>\n",
       "      <td>0.000000</td>\n",
       "    </tr>\n",
       "    <tr>\n",
       "      <th>25%</th>\n",
       "      <td>0.029867</td>\n",
       "      <td>41.000000</td>\n",
       "      <td>0.000000</td>\n",
       "      <td>0.175074</td>\n",
       "      <td>3.400000e+03</td>\n",
       "      <td>5.000000</td>\n",
       "      <td>0.000000</td>\n",
       "      <td>0.000000</td>\n",
       "      <td>0.000000</td>\n",
       "      <td>0.000000</td>\n",
       "    </tr>\n",
       "    <tr>\n",
       "      <th>50%</th>\n",
       "      <td>0.154181</td>\n",
       "      <td>52.000000</td>\n",
       "      <td>0.000000</td>\n",
       "      <td>0.366508</td>\n",
       "      <td>5.400000e+03</td>\n",
       "      <td>8.000000</td>\n",
       "      <td>0.000000</td>\n",
       "      <td>1.000000</td>\n",
       "      <td>0.000000</td>\n",
       "      <td>0.000000</td>\n",
       "    </tr>\n",
       "    <tr>\n",
       "      <th>75%</th>\n",
       "      <td>0.559046</td>\n",
       "      <td>63.000000</td>\n",
       "      <td>0.000000</td>\n",
       "      <td>0.868254</td>\n",
       "      <td>8.249000e+03</td>\n",
       "      <td>11.000000</td>\n",
       "      <td>0.000000</td>\n",
       "      <td>2.000000</td>\n",
       "      <td>0.000000</td>\n",
       "      <td>1.000000</td>\n",
       "    </tr>\n",
       "    <tr>\n",
       "      <th>max</th>\n",
       "      <td>50708.000000</td>\n",
       "      <td>109.000000</td>\n",
       "      <td>98.000000</td>\n",
       "      <td>329664.000000</td>\n",
       "      <td>3.008750e+06</td>\n",
       "      <td>58.000000</td>\n",
       "      <td>98.000000</td>\n",
       "      <td>54.000000</td>\n",
       "      <td>98.000000</td>\n",
       "      <td>20.000000</td>\n",
       "    </tr>\n",
       "  </tbody>\n",
       "</table>\n",
       "</div>"
      ],
      "text/plain": [
       "       RevolvingUtilizationOfUnsecuredLines            age  \\\n",
       "count                         150000.000000  150000.000000   \n",
       "mean                               6.048438      52.295207   \n",
       "std                              249.755371      14.771866   \n",
       "min                                0.000000       0.000000   \n",
       "25%                                0.029867      41.000000   \n",
       "50%                                0.154181      52.000000   \n",
       "75%                                0.559046      63.000000   \n",
       "max                            50708.000000     109.000000   \n",
       "\n",
       "       NumberOfTime30-59DaysPastDueNotWorse      DebtRatio  MonthlyIncome  \\\n",
       "count                         150000.000000  150000.000000   1.202690e+05   \n",
       "mean                               0.421033     353.005076   6.670221e+03   \n",
       "std                                4.192781    2037.818523   1.438467e+04   \n",
       "min                                0.000000       0.000000   0.000000e+00   \n",
       "25%                                0.000000       0.175074   3.400000e+03   \n",
       "50%                                0.000000       0.366508   5.400000e+03   \n",
       "75%                                0.000000       0.868254   8.249000e+03   \n",
       "max                               98.000000  329664.000000   3.008750e+06   \n",
       "\n",
       "       NumberOfOpenCreditLinesAndLoans  NumberOfTimes90DaysLate  \\\n",
       "count                    150000.000000            150000.000000   \n",
       "mean                          8.452760                 0.265973   \n",
       "std                           5.145951                 4.169304   \n",
       "min                           0.000000                 0.000000   \n",
       "25%                           5.000000                 0.000000   \n",
       "50%                           8.000000                 0.000000   \n",
       "75%                          11.000000                 0.000000   \n",
       "max                          58.000000                98.000000   \n",
       "\n",
       "       NumberRealEstateLoansOrLines  NumberOfTime60-89DaysPastDueNotWorse  \\\n",
       "count                 150000.000000                         150000.000000   \n",
       "mean                       1.018240                              0.240387   \n",
       "std                        1.129771                              4.155179   \n",
       "min                        0.000000                              0.000000   \n",
       "25%                        0.000000                              0.000000   \n",
       "50%                        1.000000                              0.000000   \n",
       "75%                        2.000000                              0.000000   \n",
       "max                       54.000000                             98.000000   \n",
       "\n",
       "       NumberOfDependents  \n",
       "count       146076.000000  \n",
       "mean             0.757222  \n",
       "std              1.115086  \n",
       "min              0.000000  \n",
       "25%              0.000000  \n",
       "50%              0.000000  \n",
       "75%              1.000000  \n",
       "max             20.000000  "
      ]
     },
     "execution_count": 392,
     "metadata": {},
     "output_type": "execute_result"
    }
   ],
   "source": [
    "X.describe()"
   ]
  },
  {
   "cell_type": "markdown",
   "metadata": {
    "deletable": true,
    "editable": true
   },
   "source": [
    "To apply a model, we first need to fill the blanks in `MonthlyIncome` and `NumberOfDependents`. We will fill with medians"
   ]
  },
  {
   "cell_type": "code",
   "execution_count": 393,
   "metadata": {
    "collapsed": true,
    "deletable": true,
    "editable": true
   },
   "outputs": [],
   "source": [
    "X.loc[X.MonthlyIncome.isnull(), 'MonthlyIncome'] = X.MonthlyIncome.median()\n",
    "X.loc[X.NumberOfDependents.isnull(), 'NumberOfDependents'] = X.NumberOfDependents.median()"
   ]
  },
  {
   "cell_type": "code",
   "execution_count": 394,
   "metadata": {
    "collapsed": false,
    "deletable": true,
    "editable": true
   },
   "outputs": [
    {
     "data": {
      "text/html": [
       "<div>\n",
       "<table border=\"1\" class=\"dataframe\">\n",
       "  <thead>\n",
       "    <tr style=\"text-align: right;\">\n",
       "      <th></th>\n",
       "      <th>RevolvingUtilizationOfUnsecuredLines</th>\n",
       "      <th>age</th>\n",
       "      <th>NumberOfTime30-59DaysPastDueNotWorse</th>\n",
       "      <th>DebtRatio</th>\n",
       "      <th>MonthlyIncome</th>\n",
       "      <th>NumberOfOpenCreditLinesAndLoans</th>\n",
       "      <th>NumberOfTimes90DaysLate</th>\n",
       "      <th>NumberRealEstateLoansOrLines</th>\n",
       "      <th>NumberOfTime60-89DaysPastDueNotWorse</th>\n",
       "      <th>NumberOfDependents</th>\n",
       "    </tr>\n",
       "  </thead>\n",
       "  <tbody>\n",
       "    <tr>\n",
       "      <th>count</th>\n",
       "      <td>150000.000000</td>\n",
       "      <td>150000.000000</td>\n",
       "      <td>150000.000000</td>\n",
       "      <td>150000.000000</td>\n",
       "      <td>1.500000e+05</td>\n",
       "      <td>150000.000000</td>\n",
       "      <td>150000.000000</td>\n",
       "      <td>150000.000000</td>\n",
       "      <td>150000.000000</td>\n",
       "      <td>150000.000000</td>\n",
       "    </tr>\n",
       "    <tr>\n",
       "      <th>mean</th>\n",
       "      <td>6.048438</td>\n",
       "      <td>52.295207</td>\n",
       "      <td>0.421033</td>\n",
       "      <td>353.005076</td>\n",
       "      <td>6.418455e+03</td>\n",
       "      <td>8.452760</td>\n",
       "      <td>0.265973</td>\n",
       "      <td>1.018240</td>\n",
       "      <td>0.240387</td>\n",
       "      <td>0.737413</td>\n",
       "    </tr>\n",
       "    <tr>\n",
       "      <th>std</th>\n",
       "      <td>249.755371</td>\n",
       "      <td>14.771866</td>\n",
       "      <td>4.192781</td>\n",
       "      <td>2037.818523</td>\n",
       "      <td>1.289040e+04</td>\n",
       "      <td>5.145951</td>\n",
       "      <td>4.169304</td>\n",
       "      <td>1.129771</td>\n",
       "      <td>4.155179</td>\n",
       "      <td>1.107021</td>\n",
       "    </tr>\n",
       "    <tr>\n",
       "      <th>min</th>\n",
       "      <td>0.000000</td>\n",
       "      <td>0.000000</td>\n",
       "      <td>0.000000</td>\n",
       "      <td>0.000000</td>\n",
       "      <td>0.000000e+00</td>\n",
       "      <td>0.000000</td>\n",
       "      <td>0.000000</td>\n",
       "      <td>0.000000</td>\n",
       "      <td>0.000000</td>\n",
       "      <td>0.000000</td>\n",
       "    </tr>\n",
       "    <tr>\n",
       "      <th>25%</th>\n",
       "      <td>0.029867</td>\n",
       "      <td>41.000000</td>\n",
       "      <td>0.000000</td>\n",
       "      <td>0.175074</td>\n",
       "      <td>3.903000e+03</td>\n",
       "      <td>5.000000</td>\n",
       "      <td>0.000000</td>\n",
       "      <td>0.000000</td>\n",
       "      <td>0.000000</td>\n",
       "      <td>0.000000</td>\n",
       "    </tr>\n",
       "    <tr>\n",
       "      <th>50%</th>\n",
       "      <td>0.154181</td>\n",
       "      <td>52.000000</td>\n",
       "      <td>0.000000</td>\n",
       "      <td>0.366508</td>\n",
       "      <td>5.400000e+03</td>\n",
       "      <td>8.000000</td>\n",
       "      <td>0.000000</td>\n",
       "      <td>1.000000</td>\n",
       "      <td>0.000000</td>\n",
       "      <td>0.000000</td>\n",
       "    </tr>\n",
       "    <tr>\n",
       "      <th>75%</th>\n",
       "      <td>0.559046</td>\n",
       "      <td>63.000000</td>\n",
       "      <td>0.000000</td>\n",
       "      <td>0.868254</td>\n",
       "      <td>7.400000e+03</td>\n",
       "      <td>11.000000</td>\n",
       "      <td>0.000000</td>\n",
       "      <td>2.000000</td>\n",
       "      <td>0.000000</td>\n",
       "      <td>1.000000</td>\n",
       "    </tr>\n",
       "    <tr>\n",
       "      <th>max</th>\n",
       "      <td>50708.000000</td>\n",
       "      <td>109.000000</td>\n",
       "      <td>98.000000</td>\n",
       "      <td>329664.000000</td>\n",
       "      <td>3.008750e+06</td>\n",
       "      <td>58.000000</td>\n",
       "      <td>98.000000</td>\n",
       "      <td>54.000000</td>\n",
       "      <td>98.000000</td>\n",
       "      <td>20.000000</td>\n",
       "    </tr>\n",
       "  </tbody>\n",
       "</table>\n",
       "</div>"
      ],
      "text/plain": [
       "       RevolvingUtilizationOfUnsecuredLines            age  \\\n",
       "count                         150000.000000  150000.000000   \n",
       "mean                               6.048438      52.295207   \n",
       "std                              249.755371      14.771866   \n",
       "min                                0.000000       0.000000   \n",
       "25%                                0.029867      41.000000   \n",
       "50%                                0.154181      52.000000   \n",
       "75%                                0.559046      63.000000   \n",
       "max                            50708.000000     109.000000   \n",
       "\n",
       "       NumberOfTime30-59DaysPastDueNotWorse      DebtRatio  MonthlyIncome  \\\n",
       "count                         150000.000000  150000.000000   1.500000e+05   \n",
       "mean                               0.421033     353.005076   6.418455e+03   \n",
       "std                                4.192781    2037.818523   1.289040e+04   \n",
       "min                                0.000000       0.000000   0.000000e+00   \n",
       "25%                                0.000000       0.175074   3.903000e+03   \n",
       "50%                                0.000000       0.366508   5.400000e+03   \n",
       "75%                                0.000000       0.868254   7.400000e+03   \n",
       "max                               98.000000  329664.000000   3.008750e+06   \n",
       "\n",
       "       NumberOfOpenCreditLinesAndLoans  NumberOfTimes90DaysLate  \\\n",
       "count                    150000.000000            150000.000000   \n",
       "mean                          8.452760                 0.265973   \n",
       "std                           5.145951                 4.169304   \n",
       "min                           0.000000                 0.000000   \n",
       "25%                           5.000000                 0.000000   \n",
       "50%                           8.000000                 0.000000   \n",
       "75%                          11.000000                 0.000000   \n",
       "max                          58.000000                98.000000   \n",
       "\n",
       "       NumberRealEstateLoansOrLines  NumberOfTime60-89DaysPastDueNotWorse  \\\n",
       "count                 150000.000000                         150000.000000   \n",
       "mean                       1.018240                              0.240387   \n",
       "std                        1.129771                              4.155179   \n",
       "min                        0.000000                              0.000000   \n",
       "25%                        0.000000                              0.000000   \n",
       "50%                        1.000000                              0.000000   \n",
       "75%                        2.000000                              0.000000   \n",
       "max                       54.000000                             98.000000   \n",
       "\n",
       "       NumberOfDependents  \n",
       "count       150000.000000  \n",
       "mean             0.737413  \n",
       "std              1.107021  \n",
       "min              0.000000  \n",
       "25%              0.000000  \n",
       "50%              0.000000  \n",
       "75%              1.000000  \n",
       "max             20.000000  "
      ]
     },
     "execution_count": 394,
     "metadata": {},
     "output_type": "execute_result"
    }
   ],
   "source": [
    "X.describe()"
   ]
  },
  {
   "cell_type": "markdown",
   "metadata": {
    "deletable": true,
    "editable": true
   },
   "source": [
    "As a first approach, we try to use a logistic regression. As we want to evaluate this model, we choose to cross validate the model (https://en.wikipedia.org/wiki/Cross-validation_(statistics))"
   ]
  },
  {
   "cell_type": "code",
   "execution_count": 395,
   "metadata": {
    "collapsed": true,
    "deletable": true,
    "editable": true
   },
   "outputs": [],
   "source": [
    "from sklearn.cross_validation import StratifiedKFold"
   ]
  },
  {
   "cell_type": "code",
   "execution_count": 396,
   "metadata": {
    "collapsed": true,
    "deletable": true,
    "editable": true
   },
   "outputs": [],
   "source": [
    "# CVNFOLDS = 7\n",
    "# cv = StratifiedKFold(y, n_folds=CVNFOLDS)"
   ]
  },
  {
   "cell_type": "code",
   "execution_count": 397,
   "metadata": {
    "collapsed": true,
    "deletable": true,
    "editable": true
   },
   "outputs": [],
   "source": [
    "from sklearn.linear_model import LogisticRegression\n",
    "from sklearn.metrics import roc_curve, auc"
   ]
  },
  {
   "cell_type": "code",
   "execution_count": 453,
   "metadata": {
    "collapsed": true,
    "deletable": true,
    "editable": true
   },
   "outputs": [],
   "source": [
    "def eval_model(mod, X, y, CVNFOLDS=7):\n",
    "    cv = StratifiedKFold(y, n_folds=CVNFOLDS)\n",
    "    mem = []\n",
    "    for i, (training, test) in enumerate(cv):\n",
    "        fit = mod.fit(X.iloc[training], y.iloc[training])\n",
    "        prob = fit.predict_proba(X.iloc[test])\n",
    "        fpr, tpr, _ = roc_curve(y.iloc[test], prob[:, 1])\n",
    "        a = auc(fpr, tpr)\n",
    "        mem.append(a)\n",
    "        print('ROC: %f' % a)\n",
    "        plt.plot(fpr, tpr)\n",
    "    plt.xlabel('False Positive Ratio')\n",
    "    plt.ylabel('True Positive Ratio')\n",
    "    plt.xlim([-0.05, 1.05])\n",
    "    plt.ylim([-0.05, 1.05])\n",
    "    print(\"Mean: %f\" % np.mean(mem))"
   ]
  },
  {
   "cell_type": "code",
   "execution_count": 454,
   "metadata": {
    "collapsed": false,
    "deletable": true,
    "editable": true
   },
   "outputs": [
    {
     "name": "stdout",
     "output_type": "stream",
     "text": [
      "ROC: 0.834614\n",
      "ROC: 0.807672\n",
      "ROC: 0.804414\n",
      "ROC: 0.839437\n",
      "ROC: 0.846212\n",
      "ROC: 0.826533\n",
      "ROC: 0.852132\n",
      "Mean: 0.830145\n"
     ]
    },
    {
     "data": {
      "image/png": "[encoded data removed]",
      "text/plain": [
       "<matplotlib.figure.Figure at 0x7fd30416b6d8>"
      ]
     },
     "metadata": {},
     "output_type": "display_data"
    }
   ],
   "source": [
    "eval_model(LogisticRegression(), X, y)"
   ]
  },
  {
   "cell_type": "markdown",
   "metadata": {
    "deletable": true,
    "editable": true
   },
   "source": [
    "Wich brings us at the position 830-ish... Could be better!\n",
    "![leaderboard](https://www.dropbox.com/s/o5vleyi2rxywmle/Screenshot%202017-03-27%2011.16.11.png?dl=1)\n",
    "\n",
    "**Let's try to clean a bit more our dataset**"
   ]
  },
  {
   "cell_type": "markdown",
   "metadata": {
    "deletable": true,
    "editable": true
   },
   "source": [
    "## Analyse the set\n",
    "**First we reload a fresh set**"
   ]
  },
  {
   "cell_type": "code",
   "execution_count": 400,
   "metadata": {
    "collapsed": true,
    "deletable": true,
    "editable": true
   },
   "outputs": [],
   "source": [
    "data = pd.read_csv('data/cs-training.csv').drop('Unnamed: 0', axis = 1)"
   ]
  },
  {
   "cell_type": "markdown",
   "metadata": {
    "deletable": true,
    "editable": true
   },
   "source": [
    "### SeriousDlqin2yrs"
   ]
  },
  {
   "cell_type": "code",
   "execution_count": 401,
   "metadata": {
    "collapsed": true,
    "deletable": true,
    "editable": true
   },
   "outputs": [],
   "source": [
    "from collections import Counter"
   ]
  },
  {
   "cell_type": "code",
   "execution_count": 402,
   "metadata": {
    "collapsed": false,
    "deletable": true,
    "editable": true
   },
   "outputs": [
    {
     "data": {
      "text/plain": [
       "Counter({0: 139974, 1: 10026})"
      ]
     },
     "execution_count": 402,
     "metadata": {},
     "output_type": "execute_result"
    }
   ],
   "source": [
    "Counter(data.SeriousDlqin2yrs)"
   ]
  },
  {
   "cell_type": "markdown",
   "metadata": {
    "deletable": true,
    "editable": true
   },
   "source": [
    "### Age"
   ]
  },
  {
   "cell_type": "code",
   "execution_count": 403,
   "metadata": {
    "collapsed": false,
    "deletable": true,
    "editable": true
   },
   "outputs": [
    {
     "data": {
      "text/plain": [
       "<matplotlib.axes._subplots.AxesSubplot at 0x7fd30516aa90>"
      ]
     },
     "execution_count": 403,
     "metadata": {},
     "output_type": "execute_result"
    },
    {
     "data": {
      "image/png": "[encoded data removed]",
      "text/plain": [
       "<matplotlib.figure.Figure at 0x7fd3051727b8>"
      ]
     },
     "metadata": {},
     "output_type": "display_data"
    }
   ],
   "source": [
    "data.age.hist()"
   ]
  },
  {
   "cell_type": "code",
   "execution_count": 404,
   "metadata": {
    "collapsed": false,
    "deletable": true,
    "editable": true
   },
   "outputs": [
    {
     "data": {
      "text/plain": [
       "Counter({0: 1,\n",
       "         21: 183,\n",
       "         22: 434,\n",
       "         23: 641,\n",
       "         24: 816,\n",
       "         25: 953,\n",
       "         26: 1193,\n",
       "         27: 1338,\n",
       "         28: 1560,\n",
       "         29: 1702})"
      ]
     },
     "execution_count": 404,
     "metadata": {},
     "output_type": "execute_result"
    }
   ],
   "source": [
    "Counter(data[data.age<30].age)"
   ]
  },
  {
   "cell_type": "markdown",
   "metadata": {
    "deletable": true,
    "editable": true
   },
   "source": [
    "Only one `0`, this is probably a mistake, replacing by the median"
   ]
  },
  {
   "cell_type": "code",
   "execution_count": 405,
   "metadata": {
    "collapsed": false,
    "deletable": true,
    "editable": true
   },
   "outputs": [],
   "source": [
    "data.loc[data.age < 21, 'age'] = data.age.median()"
   ]
  },
  {
   "cell_type": "code",
   "execution_count": 406,
   "metadata": {
    "collapsed": false,
    "deletable": true,
    "editable": true
   },
   "outputs": [
    {
     "data": {
      "text/plain": [
       "<matplotlib.axes._subplots.AxesSubplot at 0x7fd305027470>"
      ]
     },
     "execution_count": 406,
     "metadata": {},
     "output_type": "execute_result"
    },
    {
     "data": {
      "image/png": "[encoded data removed]",
      "text/plain": [
       "<matplotlib.figure.Figure at 0x7fd30502b128>"
      ]
     },
     "metadata": {},
     "output_type": "display_data"
    }
   ],
   "source": [
    "data.age.hist()"
   ]
  },
  {
   "cell_type": "code",
   "execution_count": 407,
   "metadata": {
    "collapsed": false,
    "deletable": true,
    "editable": true
   },
   "outputs": [
    {
     "data": {
      "text/plain": [
       "Counter({101.0: 3, 102.0: 3, 103.0: 3, 105.0: 1, 107.0: 1, 109.0: 2})"
      ]
     },
     "execution_count": 407,
     "metadata": {},
     "output_type": "execute_result"
    }
   ],
   "source": [
    "Counter(data[data.age>100].age)"
   ]
  },
  {
   "cell_type": "markdown",
   "metadata": {
    "deletable": true,
    "editable": true
   },
   "source": [
    "### NumberOfTime3059DaysPastDueNotWorse"
   ]
  },
  {
   "cell_type": "code",
   "execution_count": 408,
   "metadata": {
    "collapsed": false,
    "deletable": true,
    "editable": true
   },
   "outputs": [
    {
     "data": {
      "text/plain": [
       "<matplotlib.axes._subplots.AxesSubplot at 0x7fd30514c240>"
      ]
     },
     "execution_count": 408,
     "metadata": {},
     "output_type": "execute_result"
    },
    {
     "data": {
      "image/png": "[encoded data removed]",
      "text/plain": [
       "<matplotlib.figure.Figure at 0x7fd3051b5eb8>"
      ]
     },
     "metadata": {},
     "output_type": "display_data"
    }
   ],
   "source": [
    "data[\"NumberOfTime30-59DaysPastDueNotWorse\"].hist()"
   ]
  },
  {
   "cell_type": "code",
   "execution_count": 409,
   "metadata": {
    "collapsed": false,
    "deletable": true,
    "editable": true
   },
   "outputs": [
    {
     "data": {
      "text/plain": [
       "Counter({0: 126018,\n",
       "         1: 16033,\n",
       "         2: 4598,\n",
       "         3: 1754,\n",
       "         4: 747,\n",
       "         5: 342,\n",
       "         6: 140,\n",
       "         7: 54,\n",
       "         8: 25,\n",
       "         9: 12,\n",
       "         10: 4,\n",
       "         11: 1,\n",
       "         12: 2,\n",
       "         13: 1,\n",
       "         96: 5,\n",
       "         98: 264})"
      ]
     },
     "execution_count": 409,
     "metadata": {},
     "output_type": "execute_result"
    }
   ],
   "source": [
    "Counter(data[\"NumberOfTime30-59DaysPastDueNotWorse\"])"
   ]
  },
  {
   "cell_type": "markdown",
   "metadata": {
    "deletable": true,
    "editable": true
   },
   "source": [
    "We assume 96 & 98 are mistakes"
   ]
  },
  {
   "cell_type": "code",
   "execution_count": 410,
   "metadata": {
    "collapsed": false,
    "deletable": true,
    "editable": true
   },
   "outputs": [],
   "source": [
    "data.loc[\n",
    "    data[\"NumberOfTime30-59DaysPastDueNotWorse\"] > 20,\n",
    "    'NumberOfTime30-59DaysPastDueNotWorse',\n",
    "] = data[\"NumberOfTime30-59DaysPastDueNotWorse\"].median()"
   ]
  },
  {
   "cell_type": "code",
   "execution_count": 411,
   "metadata": {
    "collapsed": false,
    "deletable": true,
    "editable": true
   },
   "outputs": [
    {
     "data": {
      "text/plain": [
       "<matplotlib.axes._subplots.AxesSubplot at 0x7fd304f44630>"
      ]
     },
     "execution_count": 411,
     "metadata": {},
     "output_type": "execute_result"
    },
    {
     "data": {
      "image/png": "[encoded data removed]",
      "text/plain": [
       "<matplotlib.figure.Figure at 0x7fd304fbfda0>"
      ]
     },
     "metadata": {},
     "output_type": "display_data"
    }
   ],
   "source": [
    "data[\"NumberOfTime30-59DaysPastDueNotWorse\"].hist()"
   ]
  },
  {
   "cell_type": "markdown",
   "metadata": {
    "deletable": true,
    "editable": true
   },
   "source": [
    "### NumberOfTimes90DaysLate"
   ]
  },
  {
   "cell_type": "code",
   "execution_count": 412,
   "metadata": {
    "collapsed": false,
    "deletable": true,
    "editable": true
   },
   "outputs": [
    {
     "data": {
      "text/plain": [
       "<matplotlib.axes._subplots.AxesSubplot at 0x7fd304f68ac8>"
      ]
     },
     "execution_count": 412,
     "metadata": {},
     "output_type": "execute_result"
    },
    {
     "data": {
      "image/png": "[encoded data removed]",
      "text/plain": [
       "<matplotlib.figure.Figure at 0x7fd30616bf98>"
      ]
     },
     "metadata": {},
     "output_type": "display_data"
    }
   ],
   "source": [
    "data.NumberOfTimes90DaysLate.hist()"
   ]
  },
  {
   "cell_type": "code",
   "execution_count": 413,
   "metadata": {
    "collapsed": false,
    "deletable": true,
    "editable": true
   },
   "outputs": [
    {
     "data": {
      "text/plain": [
       "Counter({0: 141662,\n",
       "         1: 5243,\n",
       "         2: 1555,\n",
       "         3: 667,\n",
       "         4: 291,\n",
       "         5: 131,\n",
       "         6: 80,\n",
       "         7: 38,\n",
       "         8: 21,\n",
       "         9: 19,\n",
       "         10: 8,\n",
       "         11: 5,\n",
       "         12: 2,\n",
       "         13: 4,\n",
       "         14: 2,\n",
       "         15: 2,\n",
       "         17: 1,\n",
       "         96: 5,\n",
       "         98: 264})"
      ]
     },
     "execution_count": 413,
     "metadata": {},
     "output_type": "execute_result"
    }
   ],
   "source": [
    "Counter(data.NumberOfTimes90DaysLate)"
   ]
  },
  {
   "cell_type": "markdown",
   "metadata": {
    "deletable": true,
    "editable": true
   },
   "source": [
    "Same mistake ?"
   ]
  },
  {
   "cell_type": "code",
   "execution_count": 414,
   "metadata": {
    "collapsed": false,
    "deletable": true,
    "editable": true
   },
   "outputs": [],
   "source": [
    "data.loc[\n",
    "    data.NumberOfTimes90DaysLate > 20,\n",
    "    'NumberOfTimes90DaysLate',\n",
    "] = data.NumberOfTimes90DaysLate.median()"
   ]
  },
  {
   "cell_type": "code",
   "execution_count": 415,
   "metadata": {
    "collapsed": false,
    "deletable": true,
    "editable": true
   },
   "outputs": [
    {
     "data": {
      "text/plain": [
       "<matplotlib.axes._subplots.AxesSubplot at 0x7fd3061e72e8>"
      ]
     },
     "execution_count": 415,
     "metadata": {},
     "output_type": "execute_result"
    },
    {
     "data": {
      "image/png": "[encoded data removed]",
      "text/plain": [
       "<matplotlib.figure.Figure at 0x7fd30618f5f8>"
      ]
     },
     "metadata": {},
     "output_type": "display_data"
    }
   ],
   "source": [
    "data.NumberOfTimes90DaysLate.hist()"
   ]
  },
  {
   "cell_type": "markdown",
   "metadata": {
    "deletable": true,
    "editable": true
   },
   "source": [
    "### NumberRealEstateLoansOrLines"
   ]
  },
  {
   "cell_type": "code",
   "execution_count": 416,
   "metadata": {
    "collapsed": false,
    "deletable": true,
    "editable": true
   },
   "outputs": [
    {
     "data": {
      "text/plain": [
       "<matplotlib.axes._subplots.AxesSubplot at 0x7fd304ece978>"
      ]
     },
     "execution_count": 416,
     "metadata": {},
     "output_type": "execute_result"
    },
    {
     "data": {
      "image/png": "[encoded data removed]",
      "text/plain": [
       "<matplotlib.figure.Figure at 0x7fd3061ca860>"
      ]
     },
     "metadata": {},
     "output_type": "display_data"
    }
   ],
   "source": [
    "data.NumberRealEstateLoansOrLines.hist()"
   ]
  },
  {
   "cell_type": "code",
   "execution_count": 417,
   "metadata": {
    "collapsed": false,
    "deletable": true,
    "editable": true
   },
   "outputs": [
    {
     "data": {
      "text/plain": [
       "Counter({0: 56188,\n",
       "         1: 52338,\n",
       "         2: 31522,\n",
       "         3: 6300,\n",
       "         4: 2170,\n",
       "         5: 689,\n",
       "         6: 320,\n",
       "         7: 171,\n",
       "         8: 93,\n",
       "         9: 78,\n",
       "         10: 37,\n",
       "         11: 23,\n",
       "         12: 18,\n",
       "         13: 15,\n",
       "         14: 7,\n",
       "         15: 7,\n",
       "         16: 4,\n",
       "         17: 4,\n",
       "         18: 2,\n",
       "         19: 2,\n",
       "         20: 2,\n",
       "         21: 1,\n",
       "         23: 2,\n",
       "         25: 3,\n",
       "         26: 1,\n",
       "         29: 1,\n",
       "         32: 1,\n",
       "         54: 1})"
      ]
     },
     "execution_count": 417,
     "metadata": {},
     "output_type": "execute_result"
    }
   ],
   "source": [
    "Counter(data.NumberRealEstateLoansOrLines)"
   ]
  },
  {
   "cell_type": "markdown",
   "metadata": {
    "deletable": true,
    "editable": true
   },
   "source": [
    "It seems acceptable"
   ]
  },
  {
   "cell_type": "markdown",
   "metadata": {
    "deletable": true,
    "editable": true
   },
   "source": [
    "### NumberOfDependents"
   ]
  },
  {
   "cell_type": "code",
   "execution_count": 418,
   "metadata": {
    "collapsed": false,
    "deletable": true,
    "editable": true
   },
   "outputs": [
    {
     "data": {
      "text/plain": [
       "<matplotlib.axes._subplots.AxesSubplot at 0x7fd304e93780>"
      ]
     },
     "execution_count": 418,
     "metadata": {},
     "output_type": "execute_result"
    },
    {
     "data": {
      "image/png": "[encoded data removed]",
      "text/plain": [
       "<matplotlib.figure.Figure at 0x7fd304e69828>"
      ]
     },
     "metadata": {},
     "output_type": "display_data"
    }
   ],
   "source": [
    "data.NumberOfDependents.hist()"
   ]
  },
  {
   "cell_type": "code",
   "execution_count": 419,
   "metadata": {
    "collapsed": false,
    "deletable": true,
    "editable": true
   },
   "outputs": [
    {
     "data": {
      "text/plain": [
       "Counter({0.0: 86902,\n",
       "         1.0: 26316,\n",
       "         2.0: 19522,\n",
       "         3.0: 9483,\n",
       "         4.0: 2862,\n",
       "         5.0: 746,\n",
       "         nan: 1,\n",
       "         7.0: 51,\n",
       "         8.0: 24,\n",
       "         9.0: 5,\n",
       "         10.0: 5,\n",
       "         nan: 1,\n",
       "         13.0: 1,\n",
       "         nan: 1,\n",
       "         nan: 1,\n",
       "         nan: 1,\n",
       "         nan: 1,\n",
       "         nan: 1,\n",
       "         20.0: 1,\n",
       "         nan: 1,\n",
       "         nan: 1,\n",
       "         nan: 1,\n",
       "         nan: 1,\n",
       "         nan: 1,\n",
       "         nan: 1,\n",
       "         6.0: 158,\n",
       "         nan: 1,\n",
       "         nan: 1,\n",
       "         nan: 1,\n",
       "         nan: 1,\n",
       "         nan: 1,\n",
       "         nan: 1,\n",
       "         nan: 1,\n",
       "         nan: 1,\n",
       "         nan: 1,\n",
       "         nan: 1,\n",
       "         nan: 1,\n",
       "         nan: 1,\n",
       "         nan: 1,\n",
       "         nan: 1,\n",
       "         nan: 1,\n",
       "         nan: 1,\n",
       "         nan: 1,\n",
       "         nan: 1,\n",
       "         nan: 1,\n",
       "         nan: 1,\n",
       "         nan: 1,\n",
       "         nan: 1,\n",
       "         nan: 1,\n",
       "         nan: 1,\n",
       "         nan: 1,\n",
       "         nan: 1,\n",
       "         nan: 1,\n",
       "         nan: 1,\n",
       "         nan: 1,\n",
       "         nan: 1,\n",
       "         nan: 1,\n",
       "         nan: 1,\n",
       "         nan: 1,\n",
       "         nan: 1,\n",
       "         nan: 1,\n",
       "         nan: 1,\n",
       "         nan: 1,\n",
       "         nan: 1,\n",
       "         nan: 1,\n",
       "         nan: 1,\n",
       "         nan: 1,\n",
       "         nan: 1,\n",
       "         nan: 1,\n",
       "         nan: 1,\n",
       "         nan: 1,\n",
       "         nan: 1,\n",
       "         nan: 1,\n",
       "         nan: 1,\n",
       "         nan: 1,\n",
       "         nan: 1,\n",
       "         nan: 1,\n",
       "         nan: 1,\n",
       "         nan: 1,\n",
       "         nan: 1,\n",
       "         nan: 1,\n",
       "         nan: 1,\n",
       "         nan: 1,\n",
       "         nan: 1,\n",
       "         nan: 1,\n",
       "         nan: 1,\n",
       "         nan: 1,\n",
       "         nan: 1,\n",
       "         nan: 1,\n",
       "         nan: 1,\n",
       "         nan: 1,\n",
       "         nan: 1,\n",
       "         nan: 1,\n",
       "         nan: 1,\n",
       "         nan: 1,\n",
       "         nan: 1,\n",
       "         nan: 1,\n",
       "         nan: 1,\n",
       "         nan: 1,\n",
       "         nan: 1,\n",
       "         nan: 1,\n",
       "         nan: 1,\n",
       "         nan: 1,\n",
       "         nan: 1,\n",
       "         nan: 1,\n",
       "         nan: 1,\n",
       "         nan: 1,\n",
       "         nan: 1,\n",
       "         nan: 1,\n",
       "         nan: 1,\n",
       "         nan: 1,\n",
       "         nan: 1,\n",
       "         nan: 1,\n",
       "         nan: 1,\n",
       "         nan: 1,\n",
       "         nan: 1,\n",
       "         nan: 1,\n",
       "         nan: 1,\n",
       "         nan: 1,\n",
       "         nan: 1,\n",
       "         nan: 1,\n",
       "         nan: 1,\n",
       "         nan: 1,\n",
       "         nan: 1,\n",
       "         nan: 1,\n",
       "         nan: 1,\n",
       "         nan: 1,\n",
       "         nan: 1,\n",
       "         nan: 1,\n",
       "         nan: 1,\n",
       "         nan: 1,\n",
       "         nan: 1,\n",
       "         nan: 1,\n",
       "         nan: 1,\n",
       "         nan: 1,\n",
       "         nan: 1,\n",
       "         nan: 1,\n",
       "         nan: 1,\n",
       "         nan: 1,\n",
       "         nan: 1,\n",
       "         nan: 1,\n",
       "         nan: 1,\n",
       "         nan: 1,\n",
       "         nan: 1,\n",
       "         nan: 1,\n",
       "         nan: 1,\n",
       "         nan: 1,\n",
       "         nan: 1,\n",
       "         nan: 1,\n",
       "         nan: 1,\n",
       "         nan: 1,\n",
       "         nan: 1,\n",
       "         nan: 1,\n",
       "         nan: 1,\n",
       "         nan: 1,\n",
       "         nan: 1,\n",
       "         nan: 1,\n",
       "         nan: 1,\n",
       "         nan: 1,\n",
       "         nan: 1,\n",
       "         nan: 1,\n",
       "         nan: 1,\n",
       "         nan: 1,\n",
       "         nan: 1,\n",
       "         nan: 1,\n",
       "         nan: 1,\n",
       "         nan: 1,\n",
       "         nan: 1,\n",
       "         nan: 1,\n",
       "         nan: 1,\n",
       "         nan: 1,\n",
       "         nan: 1,\n",
       "         nan: 1,\n",
       "         nan: 1,\n",
       "         nan: 1,\n",
       "         nan: 1,\n",
       "         nan: 1,\n",
       "         nan: 1,\n",
       "         nan: 1,\n",
       "         nan: 1,\n",
       "         nan: 1,\n",
       "         nan: 1,\n",
       "         nan: 1,\n",
       "         nan: 1,\n",
       "         nan: 1,\n",
       "         nan: 1,\n",
       "         nan: 1,\n",
       "         nan: 1,\n",
       "         nan: 1,\n",
       "         nan: 1,\n",
       "         nan: 1,\n",
       "         nan: 1,\n",
       "         nan: 1,\n",
       "         nan: 1,\n",
       "         nan: 1,\n",
       "         nan: 1,\n",
       "         nan: 1,\n",
       "         nan: 1,\n",
       "         nan: 1,\n",
       "         nan: 1,\n",
       "         nan: 1,\n",
       "         nan: 1,\n",
       "         nan: 1,\n",
       "         nan: 1,\n",
       "         nan: 1,\n",
       "         nan: 1,\n",
       "         nan: 1,\n",
       "         nan: 1,\n",
       "         nan: 1,\n",
       "         nan: 1,\n",
       "         nan: 1,\n",
       "         nan: 1,\n",
       "         nan: 1,\n",
       "         nan: 1,\n",
       "         nan: 1,\n",
       "         nan: 1,\n",
       "         nan: 1,\n",
       "         nan: 1,\n",
       "         nan: 1,\n",
       "         nan: 1,\n",
       "         nan: 1,\n",
       "         nan: 1,\n",
       "         nan: 1,\n",
       "         nan: 1,\n",
       "         nan: 1,\n",
       "         nan: 1,\n",
       "         nan: 1,\n",
       "         nan: 1,\n",
       "         nan: 1,\n",
       "         nan: 1,\n",
       "         nan: 1,\n",
       "         nan: 1,\n",
       "         nan: 1,\n",
       "         nan: 1,\n",
       "         nan: 1,\n",
       "         nan: 1,\n",
       "         nan: 1,\n",
       "         nan: 1,\n",
       "         nan: 1,\n",
       "         nan: 1,\n",
       "         nan: 1,\n",
       "         nan: 1,\n",
       "         nan: 1,\n",
       "         nan: 1,\n",
       "         nan: 1,\n",
       "         nan: 1,\n",
       "         nan: 1,\n",
       "         nan: 1,\n",
       "         nan: 1,\n",
       "         nan: 1,\n",
       "         nan: 1,\n",
       "         nan: 1,\n",
       "         nan: 1,\n",
       "         nan: 1,\n",
       "         nan: 1,\n",
       "         nan: 1,\n",
       "         nan: 1,\n",
       "         nan: 1,\n",
       "         nan: 1,\n",
       "         nan: 1,\n",
       "         nan: 1,\n",
       "         nan: 1,\n",
       "         nan: 1,\n",
       "         nan: 1,\n",
       "         nan: 1,\n",
       "         nan: 1,\n",
       "         nan: 1,\n",
       "         nan: 1,\n",
       "         nan: 1,\n",
       "         nan: 1,\n",
       "         nan: 1,\n",
       "         nan: 1,\n",
       "         nan: 1,\n",
       "         nan: 1,\n",
       "         nan: 1,\n",
       "         nan: 1,\n",
       "         nan: 1,\n",
       "         nan: 1,\n",
       "         nan: 1,\n",
       "         nan: 1,\n",
       "         nan: 1,\n",
       "         nan: 1,\n",
       "         nan: 1,\n",
       "         nan: 1,\n",
       "         nan: 1,\n",
       "         nan: 1,\n",
       "         nan: 1,\n",
       "         nan: 1,\n",
       "         nan: 1,\n",
       "         nan: 1,\n",
       "         nan: 1,\n",
       "         nan: 1,\n",
       "         nan: 1,\n",
       "         nan: 1,\n",
       "         nan: 1,\n",
       "         nan: 1,\n",
       "         nan: 1,\n",
       "         nan: 1,\n",
       "         nan: 1,\n",
       "         nan: 1,\n",
       "         nan: 1,\n",
       "         nan: 1,\n",
       "         nan: 1,\n",
       "         nan: 1,\n",
       "         nan: 1,\n",
       "         nan: 1,\n",
       "         nan: 1,\n",
       "         nan: 1,\n",
       "         nan: 1,\n",
       "         nan: 1,\n",
       "         nan: 1,\n",
       "         nan: 1,\n",
       "         nan: 1,\n",
       "         nan: 1,\n",
       "         nan: 1,\n",
       "         nan: 1,\n",
       "         nan: 1,\n",
       "         nan: 1,\n",
       "         nan: 1,\n",
       "         nan: 1,\n",
       "         nan: 1,\n",
       "         nan: 1,\n",
       "         nan: 1,\n",
       "         nan: 1,\n",
       "         nan: 1,\n",
       "         nan: 1,\n",
       "         nan: 1,\n",
       "         nan: 1,\n",
       "         nan: 1,\n",
       "         nan: 1,\n",
       "         nan: 1,\n",
       "         nan: 1,\n",
       "         nan: 1,\n",
       "         nan: 1,\n",
       "         nan: 1,\n",
       "         nan: 1,\n",
       "         nan: 1,\n",
       "         nan: 1,\n",
       "         nan: 1,\n",
       "         nan: 1,\n",
       "         nan: 1,\n",
       "         nan: 1,\n",
       "         nan: 1,\n",
       "         nan: 1,\n",
       "         nan: 1,\n",
       "         nan: 1,\n",
       "         nan: 1,\n",
       "         nan: 1,\n",
       "         nan: 1,\n",
       "         nan: 1,\n",
       "         nan: 1,\n",
       "         nan: 1,\n",
       "         nan: 1,\n",
       "         nan: 1,\n",
       "         nan: 1,\n",
       "         nan: 1,\n",
       "         nan: 1,\n",
       "         nan: 1,\n",
       "         nan: 1,\n",
       "         nan: 1,\n",
       "         nan: 1,\n",
       "         nan: 1,\n",
       "         nan: 1,\n",
       "         nan: 1,\n",
       "         nan: 1,\n",
       "         nan: 1,\n",
       "         nan: 1,\n",
       "         nan: 1,\n",
       "         nan: 1,\n",
       "         nan: 1,\n",
       "         nan: 1,\n",
       "         nan: 1,\n",
       "         nan: 1,\n",
       "         nan: 1,\n",
       "         nan: 1,\n",
       "         nan: 1,\n",
       "         nan: 1,\n",
       "         nan: 1,\n",
       "         nan: 1,\n",
       "         nan: 1,\n",
       "         nan: 1,\n",
       "         nan: 1,\n",
       "         nan: 1,\n",
       "         nan: 1,\n",
       "         nan: 1,\n",
       "         nan: 1,\n",
       "         nan: 1,\n",
       "         nan: 1,\n",
       "         nan: 1,\n",
       "         nan: 1,\n",
       "         nan: 1,\n",
       "         nan: 1,\n",
       "         nan: 1,\n",
       "         nan: 1,\n",
       "         nan: 1,\n",
       "         nan: 1,\n",
       "         nan: 1,\n",
       "         nan: 1,\n",
       "         nan: 1,\n",
       "         nan: 1,\n",
       "         nan: 1,\n",
       "         nan: 1,\n",
       "         nan: 1,\n",
       "         nan: 1,\n",
       "         nan: 1,\n",
       "         nan: 1,\n",
       "         nan: 1,\n",
       "         nan: 1,\n",
       "         nan: 1,\n",
       "         nan: 1,\n",
       "         nan: 1,\n",
       "         nan: 1,\n",
       "         nan: 1,\n",
       "         nan: 1,\n",
       "         nan: 1,\n",
       "         nan: 1,\n",
       "         nan: 1,\n",
       "         nan: 1,\n",
       "         nan: 1,\n",
       "         nan: 1,\n",
       "         nan: 1,\n",
       "         nan: 1,\n",
       "         nan: 1,\n",
       "         nan: 1,\n",
       "         nan: 1,\n",
       "         nan: 1,\n",
       "         nan: 1,\n",
       "         nan: 1,\n",
       "         nan: 1,\n",
       "         nan: 1,\n",
       "         nan: 1,\n",
       "         nan: 1,\n",
       "         nan: 1,\n",
       "         nan: 1,\n",
       "         nan: 1,\n",
       "         nan: 1,\n",
       "         nan: 1,\n",
       "         nan: 1,\n",
       "         nan: 1,\n",
       "         nan: 1,\n",
       "         nan: 1,\n",
       "         nan: 1,\n",
       "         nan: 1,\n",
       "         nan: 1,\n",
       "         nan: 1,\n",
       "         nan: 1,\n",
       "         nan: 1,\n",
       "         nan: 1,\n",
       "         nan: 1,\n",
       "         nan: 1,\n",
       "         nan: 1,\n",
       "         nan: 1,\n",
       "         nan: 1,\n",
       "         nan: 1,\n",
       "         nan: 1,\n",
       "         nan: 1,\n",
       "         nan: 1,\n",
       "         nan: 1,\n",
       "         nan: 1,\n",
       "         nan: 1,\n",
       "         nan: 1,\n",
       "         nan: 1,\n",
       "         nan: 1,\n",
       "         nan: 1,\n",
       "         nan: 1,\n",
       "         nan: 1,\n",
       "         nan: 1,\n",
       "         nan: 1,\n",
       "         nan: 1,\n",
       "         nan: 1,\n",
       "         nan: 1,\n",
       "         nan: 1,\n",
       "         nan: 1,\n",
       "         nan: 1,\n",
       "         nan: 1,\n",
       "         nan: 1,\n",
       "         nan: 1,\n",
       "         nan: 1,\n",
       "         nan: 1,\n",
       "         nan: 1,\n",
       "         nan: 1,\n",
       "         nan: 1,\n",
       "         nan: 1,\n",
       "         nan: 1,\n",
       "         nan: 1,\n",
       "         nan: 1,\n",
       "         nan: 1,\n",
       "         nan: 1,\n",
       "         nan: 1,\n",
       "         nan: 1,\n",
       "         nan: 1,\n",
       "         nan: 1,\n",
       "         nan: 1,\n",
       "         nan: 1,\n",
       "         nan: 1,\n",
       "         nan: 1,\n",
       "         nan: 1,\n",
       "         nan: 1,\n",
       "         nan: 1,\n",
       "         nan: 1,\n",
       "         nan: 1,\n",
       "         nan: 1,\n",
       "         nan: 1,\n",
       "         nan: 1,\n",
       "         nan: 1,\n",
       "         nan: 1,\n",
       "         nan: 1,\n",
       "         nan: 1,\n",
       "         nan: 1,\n",
       "         nan: 1,\n",
       "         nan: 1,\n",
       "         nan: 1,\n",
       "         nan: 1,\n",
       "         nan: 1,\n",
       "         nan: 1,\n",
       "         nan: 1,\n",
       "         nan: 1,\n",
       "         nan: 1,\n",
       "         nan: 1,\n",
       "         nan: 1,\n",
       "         nan: 1,\n",
       "         nan: 1,\n",
       "         nan: 1,\n",
       "         nan: 1,\n",
       "         nan: 1,\n",
       "         nan: 1,\n",
       "         nan: 1,\n",
       "         nan: 1,\n",
       "         nan: 1,\n",
       "         nan: 1,\n",
       "         nan: 1,\n",
       "         nan: 1,\n",
       "         nan: 1,\n",
       "         nan: 1,\n",
       "         nan: 1,\n",
       "         nan: 1,\n",
       "         nan: 1,\n",
       "         nan: 1,\n",
       "         nan: 1,\n",
       "         nan: 1,\n",
       "         nan: 1,\n",
       "         nan: 1,\n",
       "         nan: 1,\n",
       "         nan: 1,\n",
       "         nan: 1,\n",
       "         nan: 1,\n",
       "         nan: 1,\n",
       "         nan: 1,\n",
       "         nan: 1,\n",
       "         nan: 1,\n",
       "         nan: 1,\n",
       "         nan: 1,\n",
       "         nan: 1,\n",
       "         nan: 1,\n",
       "         nan: 1,\n",
       "         nan: 1,\n",
       "         nan: 1,\n",
       "         nan: 1,\n",
       "         nan: 1,\n",
       "         nan: 1,\n",
       "         nan: 1,\n",
       "         nan: 1,\n",
       "         nan: 1,\n",
       "         nan: 1,\n",
       "         nan: 1,\n",
       "         nan: 1,\n",
       "         nan: 1,\n",
       "         nan: 1,\n",
       "         nan: 1,\n",
       "         nan: 1,\n",
       "         nan: 1,\n",
       "         nan: 1,\n",
       "         nan: 1,\n",
       "         nan: 1,\n",
       "         nan: 1,\n",
       "         nan: 1,\n",
       "         nan: 1,\n",
       "         nan: 1,\n",
       "         nan: 1,\n",
       "         nan: 1,\n",
       "         nan: 1,\n",
       "         nan: 1,\n",
       "         nan: 1,\n",
       "         nan: 1,\n",
       "         nan: 1,\n",
       "         nan: 1,\n",
       "         nan: 1,\n",
       "         nan: 1,\n",
       "         nan: 1,\n",
       "         nan: 1,\n",
       "         nan: 1,\n",
       "         nan: 1,\n",
       "         nan: 1,\n",
       "         nan: 1,\n",
       "         nan: 1,\n",
       "         nan: 1,\n",
       "         nan: 1,\n",
       "         nan: 1,\n",
       "         nan: 1,\n",
       "         nan: 1,\n",
       "         nan: 1,\n",
       "         nan: 1,\n",
       "         nan: 1,\n",
       "         nan: 1,\n",
       "         nan: 1,\n",
       "         nan: 1,\n",
       "         nan: 1,\n",
       "         nan: 1,\n",
       "         nan: 1,\n",
       "         nan: 1,\n",
       "         nan: 1,\n",
       "         nan: 1,\n",
       "         nan: 1,\n",
       "         nan: 1,\n",
       "         nan: 1,\n",
       "         nan: 1,\n",
       "         nan: 1,\n",
       "         nan: 1,\n",
       "         nan: 1,\n",
       "         nan: 1,\n",
       "         nan: 1,\n",
       "         nan: 1,\n",
       "         nan: 1,\n",
       "         nan: 1,\n",
       "         nan: 1,\n",
       "         nan: 1,\n",
       "         nan: 1,\n",
       "         nan: 1,\n",
       "         nan: 1,\n",
       "         nan: 1,\n",
       "         nan: 1,\n",
       "         nan: 1,\n",
       "         nan: 1,\n",
       "         nan: 1,\n",
       "         nan: 1,\n",
       "         nan: 1,\n",
       "         nan: 1,\n",
       "         nan: 1,\n",
       "         nan: 1,\n",
       "         nan: 1,\n",
       "         nan: 1,\n",
       "         nan: 1,\n",
       "         nan: 1,\n",
       "         nan: 1,\n",
       "         nan: 1,\n",
       "         nan: 1,\n",
       "         nan: 1,\n",
       "         nan: 1,\n",
       "         nan: 1,\n",
       "         nan: 1,\n",
       "         nan: 1,\n",
       "         nan: 1,\n",
       "         nan: 1,\n",
       "         nan: 1,\n",
       "         nan: 1,\n",
       "         nan: 1,\n",
       "         nan: 1,\n",
       "         nan: 1,\n",
       "         nan: 1,\n",
       "         nan: 1,\n",
       "         nan: 1,\n",
       "         nan: 1,\n",
       "         nan: 1,\n",
       "         nan: 1,\n",
       "         nan: 1,\n",
       "         nan: 1,\n",
       "         nan: 1,\n",
       "         nan: 1,\n",
       "         nan: 1,\n",
       "         nan: 1,\n",
       "         nan: 1,\n",
       "         nan: 1,\n",
       "         nan: 1,\n",
       "         nan: 1,\n",
       "         nan: 1,\n",
       "         nan: 1,\n",
       "         nan: 1,\n",
       "         nan: 1,\n",
       "         nan: 1,\n",
       "         nan: 1,\n",
       "         nan: 1,\n",
       "         nan: 1,\n",
       "         nan: 1,\n",
       "         nan: 1,\n",
       "         nan: 1,\n",
       "         nan: 1,\n",
       "         nan: 1,\n",
       "         nan: 1,\n",
       "         nan: 1,\n",
       "         nan: 1,\n",
       "         nan: 1,\n",
       "         nan: 1,\n",
       "         nan: 1,\n",
       "         nan: 1,\n",
       "         nan: 1,\n",
       "         nan: 1,\n",
       "         nan: 1,\n",
       "         nan: 1,\n",
       "         nan: 1,\n",
       "         nan: 1,\n",
       "         nan: 1,\n",
       "         nan: 1,\n",
       "         nan: 1,\n",
       "         nan: 1,\n",
       "         nan: 1,\n",
       "         nan: 1,\n",
       "         nan: 1,\n",
       "         nan: 1,\n",
       "         nan: 1,\n",
       "         nan: 1,\n",
       "         nan: 1,\n",
       "         nan: 1,\n",
       "         nan: 1,\n",
       "         nan: 1,\n",
       "         nan: 1,\n",
       "         nan: 1,\n",
       "         nan: 1,\n",
       "         nan: 1,\n",
       "         nan: 1,\n",
       "         nan: 1,\n",
       "         nan: 1,\n",
       "         nan: 1,\n",
       "         nan: 1,\n",
       "         nan: 1,\n",
       "         nan: 1,\n",
       "         nan: 1,\n",
       "         nan: 1,\n",
       "         nan: 1,\n",
       "         nan: 1,\n",
       "         nan: 1,\n",
       "         nan: 1,\n",
       "         nan: 1,\n",
       "         nan: 1,\n",
       "         nan: 1,\n",
       "         nan: 1,\n",
       "         nan: 1,\n",
       "         nan: 1,\n",
       "         nan: 1,\n",
       "         nan: 1,\n",
       "         nan: 1,\n",
       "         nan: 1,\n",
       "         nan: 1,\n",
       "         nan: 1,\n",
       "         nan: 1,\n",
       "         nan: 1,\n",
       "         nan: 1,\n",
       "         nan: 1,\n",
       "         nan: 1,\n",
       "         nan: 1,\n",
       "         nan: 1,\n",
       "         nan: 1,\n",
       "         nan: 1,\n",
       "         nan: 1,\n",
       "         nan: 1,\n",
       "         nan: 1,\n",
       "         nan: 1,\n",
       "         nan: 1,\n",
       "         nan: 1,\n",
       "         nan: 1,\n",
       "         nan: 1,\n",
       "         nan: 1,\n",
       "         nan: 1,\n",
       "         nan: 1,\n",
       "         nan: 1,\n",
       "         nan: 1,\n",
       "         nan: 1,\n",
       "         nan: 1,\n",
       "         nan: 1,\n",
       "         nan: 1,\n",
       "         nan: 1,\n",
       "         nan: 1,\n",
       "         nan: 1,\n",
       "         nan: 1,\n",
       "         nan: 1,\n",
       "         nan: 1,\n",
       "         nan: 1,\n",
       "         nan: 1,\n",
       "         nan: 1,\n",
       "         nan: 1,\n",
       "         nan: 1,\n",
       "         nan: 1,\n",
       "         nan: 1,\n",
       "         nan: 1,\n",
       "         nan: 1,\n",
       "         nan: 1,\n",
       "         nan: 1,\n",
       "         nan: 1,\n",
       "         nan: 1,\n",
       "         nan: 1,\n",
       "         nan: 1,\n",
       "         nan: 1,\n",
       "         nan: 1,\n",
       "         nan: 1,\n",
       "         nan: 1,\n",
       "         nan: 1,\n",
       "         nan: 1,\n",
       "         nan: 1,\n",
       "         nan: 1,\n",
       "         nan: 1,\n",
       "         nan: 1,\n",
       "         nan: 1,\n",
       "         nan: 1,\n",
       "         nan: 1,\n",
       "         nan: 1,\n",
       "         nan: 1,\n",
       "         nan: 1,\n",
       "         nan: 1,\n",
       "         nan: 1,\n",
       "         nan: 1,\n",
       "         nan: 1,\n",
       "         nan: 1,\n",
       "         nan: 1,\n",
       "         nan: 1,\n",
       "         nan: 1,\n",
       "         nan: 1,\n",
       "         nan: 1,\n",
       "         nan: 1,\n",
       "         nan: 1,\n",
       "         nan: 1,\n",
       "         nan: 1,\n",
       "         nan: 1,\n",
       "         nan: 1,\n",
       "         nan: 1,\n",
       "         nan: 1,\n",
       "         nan: 1,\n",
       "         nan: 1,\n",
       "         nan: 1,\n",
       "         nan: 1,\n",
       "         nan: 1,\n",
       "         nan: 1,\n",
       "         nan: 1,\n",
       "         nan: 1,\n",
       "         nan: 1,\n",
       "         nan: 1,\n",
       "         nan: 1,\n",
       "         nan: 1,\n",
       "         nan: 1,\n",
       "         nan: 1,\n",
       "         nan: 1,\n",
       "         nan: 1,\n",
       "         nan: 1,\n",
       "         nan: 1,\n",
       "         nan: 1,\n",
       "         nan: 1,\n",
       "         nan: 1,\n",
       "         nan: 1,\n",
       "         nan: 1,\n",
       "         nan: 1,\n",
       "         nan: 1,\n",
       "         nan: 1,\n",
       "         nan: 1,\n",
       "         nan: 1,\n",
       "         nan: 1,\n",
       "         nan: 1,\n",
       "         nan: 1,\n",
       "         nan: 1,\n",
       "         nan: 1,\n",
       "         nan: 1,\n",
       "         nan: 1,\n",
       "         nan: 1,\n",
       "         nan: 1,\n",
       "         nan: 1,\n",
       "         nan: 1,\n",
       "         nan: 1,\n",
       "         nan: 1,\n",
       "         nan: 1,\n",
       "         nan: 1,\n",
       "         nan: 1,\n",
       "         nan: 1,\n",
       "         nan: 1,\n",
       "         nan: 1,\n",
       "         nan: 1,\n",
       "         nan: 1,\n",
       "         nan: 1,\n",
       "         nan: 1,\n",
       "         nan: 1,\n",
       "         nan: 1,\n",
       "         nan: 1,\n",
       "         nan: 1,\n",
       "         nan: 1,\n",
       "         nan: 1,\n",
       "         nan: 1,\n",
       "         nan: 1,\n",
       "         nan: 1,\n",
       "         nan: 1,\n",
       "         nan: 1,\n",
       "         nan: 1,\n",
       "         nan: 1,\n",
       "         nan: 1,\n",
       "         nan: 1,\n",
       "         nan: 1,\n",
       "         nan: 1,\n",
       "         nan: 1,\n",
       "         nan: 1,\n",
       "         nan: 1,\n",
       "         nan: 1,\n",
       "         nan: 1,\n",
       "         nan: 1,\n",
       "         nan: 1,\n",
       "         nan: 1,\n",
       "         nan: 1,\n",
       "         nan: 1,\n",
       "         nan: 1,\n",
       "         nan: 1,\n",
       "         nan: 1,\n",
       "         nan: 1,\n",
       "         nan: 1,\n",
       "         nan: 1,\n",
       "         nan: 1,\n",
       "         nan: 1,\n",
       "         nan: 1,\n",
       "         nan: 1,\n",
       "         nan: 1,\n",
       "         nan: 1,\n",
       "         nan: 1,\n",
       "         nan: 1,\n",
       "         nan: 1,\n",
       "         nan: 1,\n",
       "         nan: 1,\n",
       "         nan: 1,\n",
       "         nan: 1,\n",
       "         nan: 1,\n",
       "         nan: 1,\n",
       "         nan: 1,\n",
       "         nan: 1,\n",
       "         nan: 1,\n",
       "         nan: 1,\n",
       "         nan: 1,\n",
       "         nan: 1,\n",
       "         nan: 1,\n",
       "         nan: 1,\n",
       "         nan: 1,\n",
       "         nan: 1,\n",
       "         nan: 1,\n",
       "         nan: 1,\n",
       "         nan: 1,\n",
       "         nan: 1,\n",
       "         nan: 1,\n",
       "         nan: 1,\n",
       "         nan: 1,\n",
       "         nan: 1,\n",
       "         nan: 1,\n",
       "         nan: 1,\n",
       "         nan: 1,\n",
       "         nan: 1,\n",
       "         nan: 1,\n",
       "         nan: 1,\n",
       "         nan: 1,\n",
       "         nan: 1,\n",
       "         nan: 1,\n",
       "         nan: 1,\n",
       "         nan: 1,\n",
       "         nan: 1,\n",
       "         nan: 1,\n",
       "         nan: 1,\n",
       "         nan: 1,\n",
       "         nan: 1,\n",
       "         nan: 1,\n",
       "         nan: 1,\n",
       "         nan: 1,\n",
       "         nan: 1,\n",
       "         nan: 1,\n",
       "         nan: 1,\n",
       "         nan: 1,\n",
       "         nan: 1,\n",
       "         nan: 1,\n",
       "         nan: 1,\n",
       "         nan: 1,\n",
       "         nan: 1,\n",
       "         nan: 1,\n",
       "         nan: 1,\n",
       "         nan: 1,\n",
       "         nan: 1,\n",
       "         nan: 1,\n",
       "         nan: 1,\n",
       "         nan: 1,\n",
       "         nan: 1,\n",
       "         nan: 1,\n",
       "         nan: 1,\n",
       "         nan: 1,\n",
       "         nan: 1,\n",
       "         nan: 1,\n",
       "         nan: 1,\n",
       "         nan: 1,\n",
       "         nan: 1,\n",
       "         nan: 1,\n",
       "         nan: 1,\n",
       "         nan: 1,\n",
       "         nan: 1,\n",
       "         nan: 1,\n",
       "         nan: 1,\n",
       "         nan: 1,\n",
       "         nan: 1,\n",
       "         nan: 1,\n",
       "         nan: 1,\n",
       "         nan: 1,\n",
       "         nan: 1,\n",
       "         nan: 1,\n",
       "         nan: 1,\n",
       "         nan: 1,\n",
       "         ...})"
      ]
     },
     "execution_count": 419,
     "metadata": {},
     "output_type": "execute_result"
    }
   ],
   "source": [
    "# Counter(data.NumberOfDependents)"
   ]
  },
  {
   "cell_type": "markdown",
   "metadata": {
    "deletable": true,
    "editable": true
   },
   "source": [
    "As done in the first section, let's remove the nulls"
   ]
  },
  {
   "cell_type": "code",
   "execution_count": 420,
   "metadata": {
    "collapsed": false,
    "deletable": true,
    "editable": true
   },
   "outputs": [],
   "source": [
    "data.loc[\n",
    "    data.NumberOfDependents.isnull(),\n",
    "    'NumberOfDependents',\n",
    "] = data.NumberOfDependents.median()"
   ]
  },
  {
   "cell_type": "code",
   "execution_count": 421,
   "metadata": {
    "collapsed": false,
    "deletable": true,
    "editable": true
   },
   "outputs": [
    {
     "data": {
      "text/plain": [
       "Counter({0.0: 90826,\n",
       "         1.0: 26316,\n",
       "         2.0: 19522,\n",
       "         3.0: 9483,\n",
       "         4.0: 2862,\n",
       "         5.0: 746,\n",
       "         6.0: 158,\n",
       "         7.0: 51,\n",
       "         8.0: 24,\n",
       "         9.0: 5,\n",
       "         10.0: 5,\n",
       "         13.0: 1,\n",
       "         20.0: 1})"
      ]
     },
     "execution_count": 421,
     "metadata": {},
     "output_type": "execute_result"
    }
   ],
   "source": [
    "Counter(data.NumberOfDependents)\n",
    "# data.NumberOfDependents[data.NumberOfDependents.isnull()]"
   ]
  },
  {
   "cell_type": "markdown",
   "metadata": {
    "deletable": true,
    "editable": true
   },
   "source": [
    "More than 10 dependents is too rare"
   ]
  },
  {
   "cell_type": "code",
   "execution_count": 422,
   "metadata": {
    "collapsed": true,
    "deletable": true,
    "editable": true
   },
   "outputs": [],
   "source": [
    "data.loc[\n",
    "    data.NumberOfDependents > 10,\n",
    "    'NumberOfDependents',\n",
    "] = 10"
   ]
  },
  {
   "cell_type": "code",
   "execution_count": 423,
   "metadata": {
    "collapsed": false,
    "deletable": true,
    "editable": true
   },
   "outputs": [
    {
     "data": {
      "text/plain": [
       "<matplotlib.axes._subplots.AxesSubplot at 0x7fd304e16b00>"
      ]
     },
     "execution_count": 423,
     "metadata": {},
     "output_type": "execute_result"
    },
    {
     "data": {
      "image/png": "[encoded data removed]",
      "text/plain": [
       "<matplotlib.figure.Figure at 0x7fd3062857f0>"
      ]
     },
     "metadata": {},
     "output_type": "display_data"
    }
   ],
   "source": [
    "data.NumberOfDependents.hist()"
   ]
  },
  {
   "cell_type": "markdown",
   "metadata": {
    "deletable": true,
    "editable": true
   },
   "source": [
    "### RevolvingUtilizationOfUnsecuredLines"
   ]
  },
  {
   "cell_type": "code",
   "execution_count": 424,
   "metadata": {
    "collapsed": false,
    "deletable": true,
    "editable": true
   },
   "outputs": [
    {
     "data": {
      "text/plain": [
       "<matplotlib.axes._subplots.AxesSubplot at 0x7fd304d487f0>"
      ]
     },
     "execution_count": 424,
     "metadata": {},
     "output_type": "execute_result"
    },
    {
     "data": {
      "image/png": "[encoded data removed]",
      "text/plain": [
       "<matplotlib.figure.Figure at 0x7fd304d20cc0>"
      ]
     },
     "metadata": {},
     "output_type": "display_data"
    }
   ],
   "source": [
    "data.RevolvingUtilizationOfUnsecuredLines.hist()"
   ]
  },
  {
   "cell_type": "code",
   "execution_count": 425,
   "metadata": {
    "collapsed": false,
    "deletable": true,
    "editable": true
   },
   "outputs": [],
   "source": [
    "data.loc[\n",
    "    data.RevolvingUtilizationOfUnsecuredLines > 5,\n",
    "    'RevolvingUtilizationOfUnsecuredLines',\n",
    "] = data.RevolvingUtilizationOfUnsecuredLines.median()"
   ]
  },
  {
   "cell_type": "code",
   "execution_count": 426,
   "metadata": {
    "collapsed": false,
    "deletable": true,
    "editable": true
   },
   "outputs": [
    {
     "data": {
      "text/plain": [
       "<matplotlib.axes._subplots.AxesSubplot at 0x7fd304ca7588>"
      ]
     },
     "execution_count": 426,
     "metadata": {},
     "output_type": "execute_result"
    },
    {
     "data": {
      "image/png": "[encoded data removed]",
      "text/plain": [
       "<matplotlib.figure.Figure at 0x7fd304d854a8>"
      ]
     },
     "metadata": {},
     "output_type": "display_data"
    }
   ],
   "source": [
    "data.RevolvingUtilizationOfUnsecuredLines.hist()"
   ]
  },
  {
   "cell_type": "markdown",
   "metadata": {
    "deletable": true,
    "editable": true
   },
   "source": [
    "It seems acceptable"
   ]
  },
  {
   "cell_type": "markdown",
   "metadata": {
    "deletable": true,
    "editable": true
   },
   "source": [
    "### DebtRatio"
   ]
  },
  {
   "cell_type": "code",
   "execution_count": 427,
   "metadata": {
    "collapsed": false,
    "deletable": true,
    "editable": true
   },
   "outputs": [
    {
     "data": {
      "text/plain": [
       "<matplotlib.axes._subplots.AxesSubplot at 0x7fd304ca4c50>"
      ]
     },
     "execution_count": 427,
     "metadata": {},
     "output_type": "execute_result"
    },
    {
     "data": {
      "image/png": "[encoded data removed]",
      "text/plain": [
       "<matplotlib.figure.Figure at 0x7fd304c33710>"
      ]
     },
     "metadata": {},
     "output_type": "display_data"
    }
   ],
   "source": [
    "data.DebtRatio.hist()"
   ]
  },
  {
   "cell_type": "code",
   "execution_count": 428,
   "metadata": {
    "collapsed": false,
    "deletable": true,
    "editable": true
   },
   "outputs": [
    {
     "data": {
      "text/plain": [
       "Counter({0.0: 4113,\n",
       "         0.4375: 2,\n",
       "         2.0: 170,\n",
       "         3.0: 162,\n",
       "         4.0: 174,\n",
       "         5.0: 143,\n",
       "         6.0: 112,\n",
       "         7.0: 115,\n",
       "         8.0: 106,\n",
       "         9.0: 125,\n",
       "         10.0: 117,\n",
       "         11.0: 108,\n",
       "         12.0: 102,\n",
       "         13.0: 114,\n",
       "         14.0: 101,\n",
       "         15.0: 98,\n",
       "         16.0: 86,\n",
       "         17.0: 65,\n",
       "         18.0: 83,\n",
       "         19.0: 91,\n",
       "         20.0: 83,\n",
       "         21.0: 99,\n",
       "         22.0: 78,\n",
       "         23.0: 70,\n",
       "         24.0: 79,\n",
       "         25.0: 78,\n",
       "         26.0: 69,\n",
       "         27.0: 76,\n",
       "         28.0: 80,\n",
       "         29.0: 77,\n",
       "         30.0: 78,\n",
       "         31.0: 61,\n",
       "         32.0: 59,\n",
       "         33.0: 57,\n",
       "         34.0: 60,\n",
       "         35.0: 66,\n",
       "         1.0: 229,\n",
       "         6.5: 2,\n",
       "         38.0: 60,\n",
       "         39.0: 47,\n",
       "         40.0: 49,\n",
       "         41.0: 59,\n",
       "         42.0: 53,\n",
       "         43.0: 59,\n",
       "         44.0: 57,\n",
       "         45.0: 61,\n",
       "         46.0: 35,\n",
       "         47.0: 52,\n",
       "         48.0: 41,\n",
       "         49.0: 47,\n",
       "         50.0: 46,\n",
       "         51.0: 37,\n",
       "         52.0: 47,\n",
       "         53.0: 34,\n",
       "         54.0: 57,\n",
       "         55.0: 30,\n",
       "         56.0: 35,\n",
       "         57.0: 41,\n",
       "         58.0: 47,\n",
       "         59.0: 37,\n",
       "         60.0: 36,\n",
       "         61.0: 35,\n",
       "         62.0: 35,\n",
       "         63.0: 30,\n",
       "         64.0: 44,\n",
       "         65.0: 36,\n",
       "         66.0: 35,\n",
       "         67.0: 29,\n",
       "         68.0: 31,\n",
       "         69.0: 31,\n",
       "         70.0: 40,\n",
       "         71.0: 39,\n",
       "         72.0: 38,\n",
       "         73.0: 22,\n",
       "         74.5: 2,\n",
       "         75.0: 32,\n",
       "         76.0: 36,\n",
       "         77.0: 31,\n",
       "         78.0: 27,\n",
       "         79.0: 27,\n",
       "         80.0: 27,\n",
       "         81.0: 28,\n",
       "         82.0: 31,\n",
       "         83.0: 24,\n",
       "         84.0: 30,\n",
       "         85.0: 20,\n",
       "         86.0: 18,\n",
       "         87.0: 28,\n",
       "         88.0: 22,\n",
       "         89.0: 33,\n",
       "         90.0: 25,\n",
       "         91.0: 19,\n",
       "         92.0: 14,\n",
       "         93.0: 21,\n",
       "         94.0: 34,\n",
       "         95.0: 18,\n",
       "         96.0: 23,\n",
       "         97.0: 25,\n",
       "         98.0: 25,\n",
       "         99.0: 27,\n",
       "         100.0: 22,\n",
       "         101.0: 24,\n",
       "         102.0: 19,\n",
       "         103.0: 20,\n",
       "         104.0: 24,\n",
       "         105.0: 15,\n",
       "         106.0: 15,\n",
       "         107.0: 28,\n",
       "         108.0: 16,\n",
       "         109.0: 14,\n",
       "         110.0: 16,\n",
       "         111.0: 22,\n",
       "         112.0: 18,\n",
       "         113.0: 21,\n",
       "         114.0: 15,\n",
       "         115.0: 19,\n",
       "         116.0: 14,\n",
       "         117.0: 15,\n",
       "         118.0: 13,\n",
       "         119.0: 18,\n",
       "         120.0: 14,\n",
       "         121.0: 19,\n",
       "         122.0: 20,\n",
       "         123.0: 24,\n",
       "         124.0: 16,\n",
       "         125.0: 19,\n",
       "         126.0: 20,\n",
       "         127.0: 14,\n",
       "         0.49041140799999999: 1,\n",
       "         129.0: 12,\n",
       "         130.0: 14,\n",
       "         131.0: 7,\n",
       "         132.0: 13,\n",
       "         133.0: 17,\n",
       "         134.0: 10,\n",
       "         135.0: 14,\n",
       "         136.0: 14,\n",
       "         137.0: 14,\n",
       "         138.5: 1,\n",
       "         139.5: 1,\n",
       "         140.0: 16,\n",
       "         141.0: 11,\n",
       "         142.0: 10,\n",
       "         143.0: 8,\n",
       "         144.0: 11,\n",
       "         145.0: 10,\n",
       "         146.0: 6,\n",
       "         147.0: 17,\n",
       "         148.0: 9,\n",
       "         149.0: 9,\n",
       "         150.0: 15,\n",
       "         151.0: 18,\n",
       "         152.0: 16,\n",
       "         153.0: 11,\n",
       "         154.0: 12,\n",
       "         155.0: 12,\n",
       "         0.607421875: 1,\n",
       "         157.0: 12,\n",
       "         158.0: 10,\n",
       "         159.0: 9,\n",
       "         160.0: 17,\n",
       "         161.0: 10,\n",
       "         162.0: 8,\n",
       "         163.0: 8,\n",
       "         164.0: 8,\n",
       "         165.0: 13,\n",
       "         166.0: 10,\n",
       "         167.0: 7,\n",
       "         168.0: 6,\n",
       "         28.17145524: 1,\n",
       "         170.0: 13,\n",
       "         171.0: 7,\n",
       "         172.0: 7,\n",
       "         173.0: 14,\n",
       "         174.0: 11,\n",
       "         175.0: 9,\n",
       "         176.0: 6,\n",
       "         177.0: 8,\n",
       "         178.0: 9,\n",
       "         179.0: 7,\n",
       "         180.0: 10,\n",
       "         181.0: 12,\n",
       "         182.0: 6,\n",
       "         183.0: 10,\n",
       "         184.0: 9,\n",
       "         185.0: 9,\n",
       "         186.0: 9,\n",
       "         187.0: 17,\n",
       "         188.0: 6,\n",
       "         189.0: 10,\n",
       "         190.0: 12,\n",
       "         191.0: 6,\n",
       "         192.0: 5,\n",
       "         193.0: 15,\n",
       "         194.0: 9,\n",
       "         195.0: 11,\n",
       "         196.0: 8,\n",
       "         197.0: 10,\n",
       "         198.0: 9,\n",
       "         199.0: 15,\n",
       "         200.0: 13,\n",
       "         201.0: 7,\n",
       "         202.0: 7,\n",
       "         203.0: 7,\n",
       "         204.0: 10,\n",
       "         205.0: 7,\n",
       "         206.0: 9,\n",
       "         207.0: 11,\n",
       "         208.0: 6,\n",
       "         209.0: 12,\n",
       "         210.0: 9,\n",
       "         211.0: 2,\n",
       "         212.0: 5,\n",
       "         213.0: 6,\n",
       "         214.0: 10,\n",
       "         215.0: 9,\n",
       "         216.0: 10,\n",
       "         36.0: 61,\n",
       "         218.0: 12,\n",
       "         219.0: 12,\n",
       "         220.0: 13,\n",
       "         221.0: 9,\n",
       "         222.0: 4,\n",
       "         37.5: 2,\n",
       "         0.042235494999999998: 1,\n",
       "         225.0: 9,\n",
       "         226.0: 8,\n",
       "         227.0: 7,\n",
       "         228.0: 8,\n",
       "         229.0: 6,\n",
       "         230.0: 10,\n",
       "         231.0: 6,\n",
       "         232.0: 9,\n",
       "         233.0: 8,\n",
       "         234.0: 10,\n",
       "         235.0: 7,\n",
       "         236.0: 7,\n",
       "         237.0: 11,\n",
       "         238.0: 7,\n",
       "         239.0: 10,\n",
       "         240.0: 7,\n",
       "         241.0: 9,\n",
       "         242.0: 7,\n",
       "         243.0: 4,\n",
       "         244.0: 8,\n",
       "         245.0: 11,\n",
       "         246.0: 6,\n",
       "         247.0: 8,\n",
       "         248.0: 9,\n",
       "         249.0: 10,\n",
       "         250.0: 9,\n",
       "         251.0: 14,\n",
       "         252.0: 5,\n",
       "         253.0: 8,\n",
       "         254.0: 8,\n",
       "         255.0: 13,\n",
       "         0.99183197200000006: 1,\n",
       "         257.0: 5,\n",
       "         258.0: 6,\n",
       "         259.0: 9,\n",
       "         260.0: 10,\n",
       "         261.0: 5,\n",
       "         262.0: 6,\n",
       "         263.0: 9,\n",
       "         264.0: 14,\n",
       "         265.0: 5,\n",
       "         266.0: 9,\n",
       "         267.0: 4,\n",
       "         268.0: 6,\n",
       "         269.0: 7,\n",
       "         270.0: 4,\n",
       "         271.0: 8,\n",
       "         272.0: 9,\n",
       "         273.0: 9,\n",
       "         274.0: 15,\n",
       "         275.0: 3,\n",
       "         276.0: 9,\n",
       "         277.0: 6,\n",
       "         278.0: 8,\n",
       "         279.0: 14,\n",
       "         280.0: 6,\n",
       "         281.0: 9,\n",
       "         282.0: 4,\n",
       "         283.0: 7,\n",
       "         284.0: 8,\n",
       "         285.0: 10,\n",
       "         286.0: 9,\n",
       "         287.0: 9,\n",
       "         288.0: 5,\n",
       "         289.0: 7,\n",
       "         290.0: 6,\n",
       "         291.0: 8,\n",
       "         292.0: 8,\n",
       "         293.0: 6,\n",
       "         294.0: 6,\n",
       "         295.0: 9,\n",
       "         296.0: 11,\n",
       "         297.0: 3,\n",
       "         298.0: 5,\n",
       "         299.0: 9,\n",
       "         300.0: 2,\n",
       "         301.0: 7,\n",
       "         302.0: 8,\n",
       "         303.0: 6,\n",
       "         304.0: 9,\n",
       "         305.0: 3,\n",
       "         306.0: 7,\n",
       "         307.0: 7,\n",
       "         308.0: 3,\n",
       "         309.0: 12,\n",
       "         310.0: 8,\n",
       "         311.0: 7,\n",
       "         312.0: 8,\n",
       "         313.0: 7,\n",
       "         314.0: 6,\n",
       "         315.0: 6,\n",
       "         316.0: 9,\n",
       "         317.0: 8,\n",
       "         318.0: 11,\n",
       "         319.0: 8,\n",
       "         320.0: 6,\n",
       "         321.0: 11,\n",
       "         322.0: 7,\n",
       "         323.0: 17,\n",
       "         324.0: 7,\n",
       "         325.0: 9,\n",
       "         326.0: 4,\n",
       "         327.0: 8,\n",
       "         328.0: 9,\n",
       "         329.0: 4,\n",
       "         330.0: 7,\n",
       "         331.0: 13,\n",
       "         332.0: 9,\n",
       "         333.0: 8,\n",
       "         334.0: 7,\n",
       "         335.0: 11,\n",
       "         336.0: 9,\n",
       "         337.0: 9,\n",
       "         338.0: 11,\n",
       "         339.0: 5,\n",
       "         340.0: 9,\n",
       "         341.5: 1,\n",
       "         342.0: 9,\n",
       "         57.5: 1,\n",
       "         344.0: 12,\n",
       "         345.0: 8,\n",
       "         346.0: 8,\n",
       "         347.0: 7,\n",
       "         348.0: 3,\n",
       "         349.0: 12,\n",
       "         350.0: 6,\n",
       "         351.0: 3,\n",
       "         352.0: 7,\n",
       "         353.0: 9,\n",
       "         354.5: 1,\n",
       "         355.0: 7,\n",
       "         356.0: 10,\n",
       "         357.0: 7,\n",
       "         358.0: 14,\n",
       "         359.0: 5,\n",
       "         0.0016188929999999999: 6,\n",
       "         361.0: 7,\n",
       "         362.0: 12,\n",
       "         363.0: 8,\n",
       "         364.0: 9,\n",
       "         365.0: 8,\n",
       "         366.0: 9,\n",
       "         367.0: 9,\n",
       "         368.0: 5,\n",
       "         369.0: 6,\n",
       "         370.5: 1,\n",
       "         371.0: 8,\n",
       "         372.0: 11,\n",
       "         373.0: 11,\n",
       "         374.0: 12,\n",
       "         375.0: 10,\n",
       "         376.0: 7,\n",
       "         377.0: 7,\n",
       "         378.0: 8,\n",
       "         379.0: 9,\n",
       "         380.0: 8,\n",
       "         381.0: 4,\n",
       "         382.0: 10,\n",
       "         383.0: 5,\n",
       "         0.27894031499999999: 1,\n",
       "         0.17620264399999999: 1,\n",
       "         386.0: 2,\n",
       "         387.0: 10,\n",
       "         388.0: 7,\n",
       "         389.0: 13,\n",
       "         390.0: 6,\n",
       "         391.0: 2,\n",
       "         392.0: 10,\n",
       "         393.0: 11,\n",
       "         394.0: 7,\n",
       "         395.0: 8,\n",
       "         396.0: 13,\n",
       "         397.0: 10,\n",
       "         398.0: 12,\n",
       "         399.0: 8,\n",
       "         400.0: 7,\n",
       "         401.0: 9,\n",
       "         402.0: 9,\n",
       "         403.0: 10,\n",
       "         404.0: 10,\n",
       "         405.0: 4,\n",
       "         406.0: 6,\n",
       "         407.0: 9,\n",
       "         408.0: 8,\n",
       "         68.5: 1,\n",
       "         410.0: 5,\n",
       "         411.0: 11,\n",
       "         412.0: 9,\n",
       "         413.0: 9,\n",
       "         414.0: 10,\n",
       "         415.0: 4,\n",
       "         416.0: 6,\n",
       "         417.0: 5,\n",
       "         418.0: 5,\n",
       "         419.0: 8,\n",
       "         420.0: 4,\n",
       "         421.0: 7,\n",
       "         422.0: 4,\n",
       "         423.0: 6,\n",
       "         424.0: 16,\n",
       "         425.0: 8,\n",
       "         426.0: 9,\n",
       "         427.0: 12,\n",
       "         428.0: 8,\n",
       "         429.0: 8,\n",
       "         430.0: 11,\n",
       "         431.0: 9,\n",
       "         432.0: 4,\n",
       "         433.0: 13,\n",
       "         434.0: 7,\n",
       "         435.0: 11,\n",
       "         436.0: 5,\n",
       "         437.0: 9,\n",
       "         438.0: 9,\n",
       "         439.0: 9,\n",
       "         440.0: 8,\n",
       "         441.0: 7,\n",
       "         442.0: 5,\n",
       "         443.0: 9,\n",
       "         444.0: 9,\n",
       "         74.0: 16,\n",
       "         446.0: 10,\n",
       "         447.0: 8,\n",
       "         448.0: 11,\n",
       "         449.0: 3,\n",
       "         450.0: 5,\n",
       "         451.0: 9,\n",
       "         452.0: 14,\n",
       "         453.0: 9,\n",
       "         454.0: 10,\n",
       "         455.0: 10,\n",
       "         15.5: 2,\n",
       "         457.0: 8,\n",
       "         458.0: 9,\n",
       "         459.5: 1,\n",
       "         460.0: 9,\n",
       "         461.0: 6,\n",
       "         462.0: 10,\n",
       "         463.0: 9,\n",
       "         464.0: 6,\n",
       "         465.0: 5,\n",
       "         466.0: 12,\n",
       "         467.0: 10,\n",
       "         468.0: 7,\n",
       "         469.0: 8,\n",
       "         470.5: 1,\n",
       "         471.0: 6,\n",
       "         472.0: 9,\n",
       "         473.0: 13,\n",
       "         474.0: 10,\n",
       "         475.0: 7,\n",
       "         476.0: 8,\n",
       "         477.0: 7,\n",
       "         478.0: 5,\n",
       "         479.0: 8,\n",
       "         480.0: 10,\n",
       "         481.0: 4,\n",
       "         482.0: 8,\n",
       "         483.0: 5,\n",
       "         484.0: 13,\n",
       "         485.0: 7,\n",
       "         486.0: 8,\n",
       "         487.0: 10,\n",
       "         488.0: 4,\n",
       "         489.0: 11,\n",
       "         490.0: 5,\n",
       "         491.0: 10,\n",
       "         492.0: 10,\n",
       "         493.0: 4,\n",
       "         494.0: 5,\n",
       "         495.0: 6,\n",
       "         496.0: 7,\n",
       "         497.0: 7,\n",
       "         498.0: 8,\n",
       "         499.0: 7,\n",
       "         500.0: 12,\n",
       "         501.0: 6,\n",
       "         502.0: 10,\n",
       "         503.0: 6,\n",
       "         504.0: 10,\n",
       "         505.0: 4,\n",
       "         506.0: 9,\n",
       "         507.0: 4,\n",
       "         508.0: 13,\n",
       "         509.0: 12,\n",
       "         510.0: 13,\n",
       "         511.0: 7,\n",
       "         0.64583853999999996: 3,\n",
       "         513.0: 8,\n",
       "         514.0: 5,\n",
       "         515.0: 10,\n",
       "         516.0: 12,\n",
       "         517.0: 8,\n",
       "         518.0: 11,\n",
       "         519.0: 5,\n",
       "         520.0: 25,\n",
       "         521.0: 13,\n",
       "         522.0: 11,\n",
       "         523.0: 10,\n",
       "         524.0: 13,\n",
       "         525.0: 8,\n",
       "         526.0: 13,\n",
       "         527.0: 7,\n",
       "         528.0: 10,\n",
       "         529.0: 6,\n",
       "         530.0: 7,\n",
       "         531.0: 3,\n",
       "         532.0: 8,\n",
       "         533.0: 8,\n",
       "         0.43399028100000003: 1,\n",
       "         535.0: 10,\n",
       "         536.0: 9,\n",
       "         537.0: 8,\n",
       "         538.0: 7,\n",
       "         539.0: 8,\n",
       "         540.0: 10,\n",
       "         541.0: 8,\n",
       "         542.0: 5,\n",
       "         543.0: 11,\n",
       "         544.0: 7,\n",
       "         545.0: 9,\n",
       "         546.0: 13,\n",
       "         547.0: 5,\n",
       "         548.0: 10,\n",
       "         549.0: 10,\n",
       "         550.0: 12,\n",
       "         551.5: 1,\n",
       "         552.0: 11,\n",
       "         553.0: 7,\n",
       "         554.0: 4,\n",
       "         555.0: 7,\n",
       "         556.0: 11,\n",
       "         557.0: 9,\n",
       "         558.0: 3,\n",
       "         559.0: 4,\n",
       "         560.0: 15,\n",
       "         561.0: 7,\n",
       "         562.0: 11,\n",
       "         563.0: 15,\n",
       "         564.0: 4,\n",
       "         565.0: 6,\n",
       "         566.0: 12,\n",
       "         567.0: 8,\n",
       "         568.0: 13,\n",
       "         569.0: 10,\n",
       "         570.0: 11,\n",
       "         571.0: 13,\n",
       "         572.0: 7,\n",
       "         573.0: 7,\n",
       "         574.0: 10,\n",
       "         575.0: 6,\n",
       "         0.038128250000000002: 1,\n",
       "         577.0: 12,\n",
       "         578.0: 8,\n",
       "         579.0: 8,\n",
       "         0.014069264: 1,\n",
       "         581.0: 6,\n",
       "         582.0: 4,\n",
       "         583.0: 7,\n",
       "         584.0: 6,\n",
       "         585.0: 8,\n",
       "         586.0: 8,\n",
       "         587.0: 8,\n",
       "         588.0: 5,\n",
       "         589.0: 7,\n",
       "         590.0: 7,\n",
       "         591.0: 9,\n",
       "         592.0: 15,\n",
       "         593.0: 9,\n",
       "         594.0: 3,\n",
       "         595.0: 8,\n",
       "         596.0: 9,\n",
       "         597.0: 12,\n",
       "         598.0: 9,\n",
       "         599.0: 4,\n",
       "         600.0: 7,\n",
       "         601.0: 7,\n",
       "         602.0: 7,\n",
       "         603.0: 10,\n",
       "         0.0012628920000000001: 1,\n",
       "         605.0: 6,\n",
       "         606.0: 5,\n",
       "         607.0: 10,\n",
       "         608.0: 7,\n",
       "         609.0: 2,\n",
       "         610.0: 2,\n",
       "         611.0: 10,\n",
       "         612.0: 13,\n",
       "         613.0: 17,\n",
       "         614.0: 6,\n",
       "         615.0: 5,\n",
       "         616.0: 5,\n",
       "         617.0: 6,\n",
       "         618.0: 4,\n",
       "         619.0: 10,\n",
       "         620.0: 4,\n",
       "         621.0: 7,\n",
       "         622.0: 9,\n",
       "         623.0: 7,\n",
       "         624.0: 7,\n",
       "         625.0: 6,\n",
       "         626.0: 3,\n",
       "         627.0: 7,\n",
       "         628.0: 5,\n",
       "         629.0: 7,\n",
       "         630.0: 3,\n",
       "         631.0: 4,\n",
       "         632.0: 4,\n",
       "         633.0: 4,\n",
       "         634.0: 5,\n",
       "         635.0: 11,\n",
       "         636.0: 11,\n",
       "         637.0: 7,\n",
       "         638.0: 4,\n",
       "         639.5: 2,\n",
       "         0.15389510000000001: 1,\n",
       "         641.0: 5,\n",
       "         642.0: 3,\n",
       "         643.0: 4,\n",
       "         644.0: 6,\n",
       "         645.0: 7,\n",
       "         646.0: 9,\n",
       "         647.0: 5,\n",
       "         648.0: 10,\n",
       "         649.0: 8,\n",
       "         650.0: 8,\n",
       "         651.0: 9,\n",
       "         652.0: 10,\n",
       "         653.0: 8,\n",
       "         654.0: 8,\n",
       "         655.0: 9,\n",
       "         656.0: 3,\n",
       "         657.0: 8,\n",
       "         658.0: 7,\n",
       "         659.0: 9,\n",
       "         660.0: 8,\n",
       "         661.0: 3,\n",
       "         662.0: 8,\n",
       "         663.0: 8,\n",
       "         664.0: 8,\n",
       "         665.0: 6,\n",
       "         666.0: 7,\n",
       "         667.5: 1,\n",
       "         668.0: 9,\n",
       "         669.0: 7,\n",
       "         670.0: 9,\n",
       "         671.0: 9,\n",
       "         672.0: 8,\n",
       "         673.0: 8,\n",
       "         674.0: 7,\n",
       "         675.0: 12,\n",
       "         676.0: 7,\n",
       "         677.0: 5,\n",
       "         678.0: 3,\n",
       "         679.0: 8,\n",
       "         680.0: 5,\n",
       "         681.0: 5,\n",
       "         682.0: 6,\n",
       "         683.0: 9,\n",
       "         684.0: 5,\n",
       "         685.0: 17,\n",
       "         686.0: 11,\n",
       "         687.0: 13,\n",
       "         688.0: 12,\n",
       "         689.0: 7,\n",
       "         690.0: 8,\n",
       "         691.0: 3,\n",
       "         692.0: 10,\n",
       "         693.0: 13,\n",
       "         694.0: 7,\n",
       "         695.0: 4,\n",
       "         696.0: 8,\n",
       "         697.0: 4,\n",
       "         698.0: 9,\n",
       "         699.0: 3,\n",
       "         700.0: 7,\n",
       "         701.0: 9,\n",
       "         702.0: 10,\n",
       "         703.0: 9,\n",
       "         0.123909884: 1,\n",
       "         705.0: 9,\n",
       "         706.0: 6,\n",
       "         707.0: 8,\n",
       "         708.0: 9,\n",
       "         709.0: 7,\n",
       "         710.0: 9,\n",
       "         711.0: 6,\n",
       "         712.0: 6,\n",
       "         713.0: 5,\n",
       "         714.0: 6,\n",
       "         715.0: 4,\n",
       "         716.0: 9,\n",
       "         717.0: 7,\n",
       "         718.0: 9,\n",
       "         719.0: 6,\n",
       "         720.0: 8,\n",
       "         721.0: 10,\n",
       "         722.0: 9,\n",
       "         723.0: 9,\n",
       "         724.0: 7,\n",
       "         725.0: 7,\n",
       "         726.0: 7,\n",
       "         727.0: 6,\n",
       "         728.0: 8,\n",
       "         729.0: 6,\n",
       "         0.44545656500000003: 1,\n",
       "         731.0: 6,\n",
       "         732.0: 9,\n",
       "         733.0: 4,\n",
       "         734.0: 12,\n",
       "         735.0: 6,\n",
       "         736.0: 11,\n",
       "         737.0: 8,\n",
       "         738.0: 4,\n",
       "         739.0: 5,\n",
       "         740.0: 8,\n",
       "         741.0: 3,\n",
       "         742.0: 15,\n",
       "         743.0: 3,\n",
       "         744.0: 7,\n",
       "         745.0: 4,\n",
       "         746.0: 6,\n",
       "         747.0: 7,\n",
       "         748.0: 6,\n",
       "         749.0: 7,\n",
       "         750.0: 2,\n",
       "         751.0: 9,\n",
       "         752.0: 6,\n",
       "         753.0: 12,\n",
       "         754.0: 8,\n",
       "         755.0: 8,\n",
       "         756.0: 4,\n",
       "         757.0: 6,\n",
       "         758.0: 6,\n",
       "         759.0: 5,\n",
       "         760.0: 7,\n",
       "         761.0: 10,\n",
       "         762.0: 6,\n",
       "         763.0: 5,\n",
       "         764.0: 6,\n",
       "         765.0: 9,\n",
       "         766.0: 5,\n",
       "         767.0: 7,\n",
       "         0.30819154500000001: 1,\n",
       "         128.0: 11,\n",
       "         770.0: 1,\n",
       "         771.0: 3,\n",
       "         772.0: 2,\n",
       "         773.0: 8,\n",
       "         774.0: 12,\n",
       "         775.0: 5,\n",
       "         776.5: 1,\n",
       "         777.0: 8,\n",
       "         778.0: 6,\n",
       "         779.0: 8,\n",
       "         780.0: 3,\n",
       "         0.25: 4,\n",
       "         782.0: 6,\n",
       "         783.0: 8,\n",
       "         784.0: 7,\n",
       "         785.0: 4,\n",
       "         786.0: 5,\n",
       "         787.0: 7,\n",
       "         788.0: 9,\n",
       "         789.0: 7,\n",
       "         790.0: 7,\n",
       "         791.0: 10,\n",
       "         792.0: 6,\n",
       "         793.0: 5,\n",
       "         794.0: 5,\n",
       "         795.0: 9,\n",
       "         796.0: 8,\n",
       "         797.0: 9,\n",
       "         798.0: 7,\n",
       "         799.0: 7,\n",
       "         800.0: 4,\n",
       "         801.0: 4,\n",
       "         802.0: 7,\n",
       "         803.0: 7,\n",
       "         804.0: 9,\n",
       "         805.0: 7,\n",
       "         806.0: 4,\n",
       "         807.0: 13,\n",
       "         808.0: 3,\n",
       "         809.0: 12,\n",
       "         810.0: 9,\n",
       "         811.0: 10,\n",
       "         812.0: 9,\n",
       "         813.0: 4,\n",
       "         814.0: 7,\n",
       "         815.0: 4,\n",
       "         816.0: 10,\n",
       "         817.0: 6,\n",
       "         818.0: 9,\n",
       "         819.0: 3,\n",
       "         820.0: 8,\n",
       "         821.0: 4,\n",
       "         822.0: 2,\n",
       "         823.0: 8,\n",
       "         824.0: 5,\n",
       "         825.0: 6,\n",
       "         826.0: 9,\n",
       "         827.0: 1,\n",
       "         828.0: 9,\n",
       "         829.5: 1,\n",
       "         830.0: 9,\n",
       "         831.0: 5,\n",
       "         0.089552239000000006: 1,\n",
       "         833.0: 4,\n",
       "         834.0: 9,\n",
       "         139.0: 14,\n",
       "         836.0: 8,\n",
       "         837.0: 11,\n",
       "         838.0: 10,\n",
       "         839.0: 7,\n",
       "         840.0: 8,\n",
       "         841.0: 6,\n",
       "         842.0: 6,\n",
       "         843.0: 2,\n",
       "         844.0: 5,\n",
       "         845.0: 9,\n",
       "         846.0: 6,\n",
       "         847.0: 6,\n",
       "         848.0: 10,\n",
       "         849.0: 7,\n",
       "         850.0: 5,\n",
       "         851.0: 7,\n",
       "         852.0: 3,\n",
       "         853.0: 7,\n",
       "         854.0: 3,\n",
       "         855.0: 5,\n",
       "         856.0: 7,\n",
       "         857.0: 6,\n",
       "         858.0: 6,\n",
       "         859.0: 3,\n",
       "         860.0: 8,\n",
       "         861.5: 1,\n",
       "         862.0: 10,\n",
       "         863.0: 6,\n",
       "         864.0: 5,\n",
       "         865.0: 6,\n",
       "         866.0: 7,\n",
       "         867.0: 11,\n",
       "         868.0: 7,\n",
       "         869.0: 6,\n",
       "         870.0: 10,\n",
       "         871.0: 11,\n",
       "         872.0: 9,\n",
       "         873.0: 6,\n",
       "         874.0: 3,\n",
       "         875.0: 7,\n",
       "         876.0: 5,\n",
       "         877.0: 5,\n",
       "         878.0: 3,\n",
       "         879.0: 7,\n",
       "         0.025320846000000001: 1,\n",
       "         881.0: 10,\n",
       "         882.0: 12,\n",
       "         883.0: 9,\n",
       "         884.0: 6,\n",
       "         885.0: 8,\n",
       "         886.0: 11,\n",
       "         887.0: 9,\n",
       "         888.0: 8,\n",
       "         889.0: 8,\n",
       "         890.0: 3,\n",
       "         891.0: 7,\n",
       "         892.0: 9,\n",
       "         893.0: 13,\n",
       "         894.0: 6,\n",
       "         895.0: 3,\n",
       "         0.39108773899999999: 1,\n",
       "         897.0: 4,\n",
       "         898.0: 6,\n",
       "         899.0: 6,\n",
       "         900.0: 8,\n",
       "         901.0: 2,\n",
       "         902.0: 8,\n",
       "         903.0: 10,\n",
       "         904.0: 6,\n",
       "         905.0: 14,\n",
       "         1.5: 2,\n",
       "         907.0: 6,\n",
       "         908.0: 5,\n",
       "         909.0: 7,\n",
       "         910.0: 9,\n",
       "         911.0: 9,\n",
       "         912.0: 6,\n",
       "         913.0: 6,\n",
       "         914.0: 9,\n",
       "         915.0: 11,\n",
       "         916.0: 3,\n",
       "         917.0: 3,\n",
       "         918.0: 7,\n",
       "         919.0: 9,\n",
       "         920.0: 6,\n",
       "         921.0: 8,\n",
       "         922.0: 7,\n",
       "         923.0: 8,\n",
       "         924.0: 8,\n",
       "         925.0: 10,\n",
       "         926.5: 1,\n",
       "         927.0: 9,\n",
       "         928.0: 10,\n",
       "         929.0: 7,\n",
       "         930.0: 3,\n",
       "         931.0: 6,\n",
       "         932.0: 6,\n",
       "         933.0: 12,\n",
       "         934.0: 4,\n",
       "         935.0: 6,\n",
       "         936.0: 13,\n",
       "         937.0: 10,\n",
       "         938.0: 7,\n",
       "         939.0: 7,\n",
       "         940.0: 11,\n",
       "         941.0: 11,\n",
       "         942.0: 8,\n",
       "         943.0: 9,\n",
       "         944.0: 7,\n",
       "         945.0: 6,\n",
       "         946.0: 7,\n",
       "         947.0: 5,\n",
       "         948.0: 6,\n",
       "         949.0: 3,\n",
       "         950.0: 4,\n",
       "         951.0: 5,\n",
       "         952.0: 2,\n",
       "         953.0: 8,\n",
       "         954.0: 9,\n",
       "         955.0: 3,\n",
       "         956.0: 5,\n",
       "         957.0: 2,\n",
       "         958.0: 8,\n",
       "         959.0: 7,\n",
       "         0.212887099: 1,\n",
       "         961.0: 7,\n",
       "         962.0: 6,\n",
       "         963.0: 7,\n",
       "         964.0: 9,\n",
       "         965.0: 11,\n",
       "         966.0: 7,\n",
       "         967.0: 9,\n",
       "         968.0: 7,\n",
       "         969.0: 8,\n",
       "         970.0: 5,\n",
       "         971.0: 6,\n",
       "         972.0: 10,\n",
       "         973.0: 10,\n",
       "         974.0: 13,\n",
       "         975.0: 10,\n",
       "         976.0: 4,\n",
       "         977.0: 7,\n",
       "         978.0: 5,\n",
       "         979.0: 5,\n",
       "         980.5: 1,\n",
       "         981.0: 7,\n",
       "         982.0: 6,\n",
       "         983.0: 9,\n",
       "         984.0: 7,\n",
       "         985.0: 3,\n",
       "         986.0: 5,\n",
       "         987.0: 6,\n",
       "         988.0: 9,\n",
       "         989.0: 4,\n",
       "         990.0: 10,\n",
       "         991.0: 6,\n",
       "         992.0: 8,\n",
       "         993.0: 9,\n",
       "         994.0: 8,\n",
       "         995.0: 7,\n",
       "         996.0: 4,\n",
       "         997.0: 9,\n",
       "         998.0: 9,\n",
       "         999.0: 3,\n",
       "         ...})"
      ]
     },
     "execution_count": 428,
     "metadata": {},
     "output_type": "execute_result"
    }
   ],
   "source": [
    "# Counter(data.DebtRatio)"
   ]
  },
  {
   "cell_type": "code",
   "execution_count": 429,
   "metadata": {
    "collapsed": true,
    "deletable": true,
    "editable": true
   },
   "outputs": [],
   "source": [
    "data.loc[\n",
    "    data.DebtRatio > 5,\n",
    "    'DebtRatio',\n",
    "] = data.DebtRatio.median()"
   ]
  },
  {
   "cell_type": "code",
   "execution_count": 430,
   "metadata": {
    "collapsed": false,
    "deletable": true,
    "editable": true
   },
   "outputs": [
    {
     "data": {
      "text/plain": [
       "<matplotlib.axes._subplots.AxesSubplot at 0x7fd304bd9a20>"
      ]
     },
     "execution_count": 430,
     "metadata": {},
     "output_type": "execute_result"
    },
    {
     "data": {
      "image/png": "[encoded data removed]",
      "text/plain": [
       "<matplotlib.figure.Figure at 0x7fd304bb6438>"
      ]
     },
     "metadata": {},
     "output_type": "display_data"
    }
   ],
   "source": [
    "data.DebtRatio.hist()"
   ]
  },
  {
   "cell_type": "code",
   "execution_count": 431,
   "metadata": {
    "collapsed": false,
    "deletable": true,
    "editable": true
   },
   "outputs": [
    {
     "data": {
      "text/plain": [
       "count    150000.000000\n",
       "mean          0.371200\n",
       "std           0.394357\n",
       "min           0.000000\n",
       "25%           0.175074\n",
       "50%           0.366506\n",
       "75%           0.414913\n",
       "max           5.000000\n",
       "Name: DebtRatio, dtype: float64"
      ]
     },
     "execution_count": 431,
     "metadata": {},
     "output_type": "execute_result"
    }
   ],
   "source": [
    "data.DebtRatio.describe()"
   ]
  },
  {
   "cell_type": "markdown",
   "metadata": {
    "deletable": true,
    "editable": true
   },
   "source": [
    "### MonthlyIncome"
   ]
  },
  {
   "cell_type": "code",
   "execution_count": 432,
   "metadata": {
    "collapsed": false,
    "deletable": true,
    "editable": true
   },
   "outputs": [
    {
     "data": {
      "text/plain": [
       "<matplotlib.axes._subplots.AxesSubplot at 0x7fd3074c9358>"
      ]
     },
     "execution_count": 432,
     "metadata": {},
     "output_type": "execute_result"
    },
    {
     "data": {
      "image/png": "[encoded data removed]",
      "text/plain": [
       "<matplotlib.figure.Figure at 0x7fd30625ec18>"
      ]
     },
     "metadata": {},
     "output_type": "display_data"
    }
   ],
   "source": [
    "data.MonthlyIncome.hist()"
   ]
  },
  {
   "cell_type": "code",
   "execution_count": 433,
   "metadata": {
    "collapsed": false,
    "deletable": true,
    "editable": true
   },
   "outputs": [
    {
     "data": {
      "text/plain": [
       "count    1.202690e+05\n",
       "mean     6.670221e+03\n",
       "std      1.438467e+04\n",
       "min      0.000000e+00\n",
       "25%      3.400000e+03\n",
       "50%      5.400000e+03\n",
       "75%      8.249000e+03\n",
       "max      3.008750e+06\n",
       "Name: MonthlyIncome, dtype: float64"
      ]
     },
     "execution_count": 433,
     "metadata": {},
     "output_type": "execute_result"
    }
   ],
   "source": [
    "data.MonthlyIncome.describe()"
   ]
  },
  {
   "cell_type": "code",
   "execution_count": 434,
   "metadata": {
    "collapsed": true,
    "deletable": true,
    "editable": true
   },
   "outputs": [],
   "source": [
    "data.loc[data.MonthlyIncome.isnull(), 'MonthlyIncome'] = data.MonthlyIncome.median()"
   ]
  },
  {
   "cell_type": "code",
   "execution_count": 435,
   "metadata": {
    "collapsed": false,
    "deletable": true,
    "editable": true
   },
   "outputs": [
    {
     "data": {
      "text/plain": [
       "count    1.500000e+05\n",
       "mean     6.418455e+03\n",
       "std      1.289040e+04\n",
       "min      0.000000e+00\n",
       "25%      3.903000e+03\n",
       "50%      5.400000e+03\n",
       "75%      7.400000e+03\n",
       "max      3.008750e+06\n",
       "Name: MonthlyIncome, dtype: float64"
      ]
     },
     "execution_count": 435,
     "metadata": {},
     "output_type": "execute_result"
    }
   ],
   "source": [
    "data.MonthlyIncome.describe()"
   ]
  },
  {
   "cell_type": "markdown",
   "metadata": {
    "deletable": true,
    "editable": true
   },
   "source": [
    "### NumberOfOpenCreditLinesAndLoans"
   ]
  },
  {
   "cell_type": "code",
   "execution_count": 436,
   "metadata": {
    "collapsed": false,
    "deletable": true,
    "editable": true
   },
   "outputs": [
    {
     "data": {
      "text/plain": [
       "<matplotlib.axes._subplots.AxesSubplot at 0x7fd3050d9668>"
      ]
     },
     "execution_count": 436,
     "metadata": {},
     "output_type": "execute_result"
    },
    {
     "data": {
      "image/png": "[encoded data removed]",
      "text/plain": [
       "<matplotlib.figure.Figure at 0x7fd305ec1eb8>"
      ]
     },
     "metadata": {},
     "output_type": "display_data"
    }
   ],
   "source": [
    "data.NumberOfOpenCreditLinesAndLoans.hist()"
   ]
  },
  {
   "cell_type": "code",
   "execution_count": 437,
   "metadata": {
    "collapsed": false,
    "deletable": true,
    "editable": true
   },
   "outputs": [
    {
     "data": {
      "text/plain": [
       "count    150000.000000\n",
       "mean          8.452760\n",
       "std           5.145951\n",
       "min           0.000000\n",
       "25%           5.000000\n",
       "50%           8.000000\n",
       "75%          11.000000\n",
       "max          58.000000\n",
       "Name: NumberOfOpenCreditLinesAndLoans, dtype: float64"
      ]
     },
     "execution_count": 437,
     "metadata": {},
     "output_type": "execute_result"
    }
   ],
   "source": [
    "data.NumberOfOpenCreditLinesAndLoans.describe()"
   ]
  },
  {
   "cell_type": "markdown",
   "metadata": {
    "deletable": true,
    "editable": true
   },
   "source": [
    "It seems acceptable"
   ]
  },
  {
   "cell_type": "markdown",
   "metadata": {
    "deletable": true,
    "editable": true
   },
   "source": [
    "### NumberOfTime60-89DaysPastDueNotWorse"
   ]
  },
  {
   "cell_type": "code",
   "execution_count": 438,
   "metadata": {
    "collapsed": false,
    "deletable": true,
    "editable": true
   },
   "outputs": [
    {
     "data": {
      "text/plain": [
       "<matplotlib.axes._subplots.AxesSubplot at 0x7fd30614ec50>"
      ]
     },
     "execution_count": 438,
     "metadata": {},
     "output_type": "execute_result"
    },
    {
     "data": {
      "image/png": "[encoded data removed]",
      "text/plain": [
       "<matplotlib.figure.Figure at 0x7fd3060b4da0>"
      ]
     },
     "metadata": {},
     "output_type": "display_data"
    }
   ],
   "source": [
    "data[\"NumberOfTime60-89DaysPastDueNotWorse\"].hist()"
   ]
  },
  {
   "cell_type": "code",
   "execution_count": 439,
   "metadata": {
    "collapsed": false,
    "deletable": true,
    "editable": true
   },
   "outputs": [
    {
     "data": {
      "text/plain": [
       "count    150000.000000\n",
       "mean          0.240387\n",
       "std           4.155179\n",
       "min           0.000000\n",
       "25%           0.000000\n",
       "50%           0.000000\n",
       "75%           0.000000\n",
       "max          98.000000\n",
       "Name: NumberOfTime60-89DaysPastDueNotWorse, dtype: float64"
      ]
     },
     "execution_count": 439,
     "metadata": {},
     "output_type": "execute_result"
    }
   ],
   "source": [
    "data[\"NumberOfTime60-89DaysPastDueNotWorse\"].describe()"
   ]
  },
  {
   "cell_type": "markdown",
   "metadata": {
    "deletable": true,
    "editable": true
   },
   "source": [
    "It seems acceptable"
   ]
  },
  {
   "cell_type": "markdown",
   "metadata": {
    "deletable": true,
    "editable": true
   },
   "source": [
    "### Check"
   ]
  },
  {
   "cell_type": "code",
   "execution_count": 440,
   "metadata": {
    "collapsed": false,
    "deletable": true,
    "editable": true
   },
   "outputs": [
    {
     "data": {
      "text/plain": [
       "array([[<matplotlib.axes._subplots.AxesSubplot object at 0x7fd30608cf98>,\n",
       "        <matplotlib.axes._subplots.AxesSubplot object at 0x7fd306373908>,\n",
       "        <matplotlib.axes._subplots.AxesSubplot object at 0x7fd305105fd0>],\n",
       "       [<matplotlib.axes._subplots.AxesSubplot object at 0x7fd306377f98>,\n",
       "        <matplotlib.axes._subplots.AxesSubplot object at 0x7fd3051392e8>,\n",
       "        <matplotlib.axes._subplots.AxesSubplot object at 0x7fd30508fe10>],\n",
       "       [<matplotlib.axes._subplots.AxesSubplot object at 0x7fd305fcde48>,\n",
       "        <matplotlib.axes._subplots.AxesSubplot object at 0x7fd3060e05c0>,\n",
       "        <matplotlib.axes._subplots.AxesSubplot object at 0x7fd3048bbc18>],\n",
       "       [<matplotlib.axes._subplots.AxesSubplot object at 0x7fd305ee4eb8>,\n",
       "        <matplotlib.axes._subplots.AxesSubplot object at 0x7fd30486f400>,\n",
       "        <matplotlib.axes._subplots.AxesSubplot object at 0x7fd30482ecf8>]], dtype=object)"
      ]
     },
     "execution_count": 440,
     "metadata": {},
     "output_type": "execute_result"
    },
    {
     "data": {
      "image/png": "[encoded data removed]",
      "text/plain": [
       "<matplotlib.figure.Figure at 0x7fd3064660f0>"
      ]
     },
     "metadata": {},
     "output_type": "display_data"
    }
   ],
   "source": [
    "data.hist()"
   ]
  },
  {
   "cell_type": "code",
   "execution_count": null,
   "metadata": {
    "collapsed": true,
    "deletable": true,
    "editable": true
   },
   "outputs": [],
   "source": []
  },
  {
   "cell_type": "markdown",
   "metadata": {
    "deletable": true,
    "editable": true
   },
   "source": [
    "## Predictions\n",
    "### Logistic regression"
   ]
  },
  {
   "cell_type": "code",
   "execution_count": 441,
   "metadata": {
    "collapsed": false,
    "deletable": true,
    "editable": true
   },
   "outputs": [],
   "source": [
    "X = data.drop('SeriousDlqin2yrs', axis=1)\n",
    "y = data.SeriousDlqin2yrs"
   ]
  },
  {
   "cell_type": "code",
   "execution_count": 442,
   "metadata": {
    "collapsed": false,
    "deletable": true,
    "editable": true
   },
   "outputs": [
    {
     "name": "stdout",
     "output_type": "stream",
     "text": [
      "ROC: 0.834614\n",
      "ROC: 0.807672\n",
      "ROC: 0.804414\n",
      "ROC: 0.839437\n",
      "ROC: 0.846212\n",
      "ROC: 0.826533\n",
      "ROC: 0.852132\n",
      "Mean: 0.830145\n"
     ]
    },
    {
     "data": {
      "image/png": "[encoded data removed]",
      "text/plain": [
       "<matplotlib.figure.Figure at 0x7fd3045a2cc0>"
      ]
     },
     "metadata": {},
     "output_type": "display_data"
    }
   ],
   "source": [
    "eval_model(LogisticRegression(), X, y)"
   ]
  },
  {
   "cell_type": "markdown",
   "metadata": {
    "deletable": true,
    "editable": true
   },
   "source": [
    "**Position 575-ish**"
   ]
  },
  {
   "cell_type": "code",
   "execution_count": 443,
   "metadata": {
    "collapsed": false,
    "deletable": true,
    "editable": true
   },
   "outputs": [
    {
     "name": "stdout",
     "output_type": "stream",
     "text": [
      "ROC: 0.855108\n",
      "ROC: 0.857138\n",
      "ROC: 0.858318\n",
      "ROC: 0.857415\n",
      "ROC: 0.864138\n",
      "ROC: 0.853770\n",
      "ROC: 0.867405\n",
      "Mean: 0.859042\n"
     ]
    },
    {
     "data": {
      "image/png": "[encoded data removed]",
      "text/plain": [
       "<matplotlib.figure.Figure at 0x7fd30429d860>"
      ]
     },
     "metadata": {},
     "output_type": "display_data"
    }
   ],
   "source": [
    "from sklearn.ensemble import AdaBoostClassifier\n",
    "eval_model(AdaBoostClassifier(), X, y)"
   ]
  },
  {
   "cell_type": "markdown",
   "metadata": {
    "deletable": true,
    "editable": true
   },
   "source": [
    "**Position 545-ish**"
   ]
  },
  {
   "cell_type": "code",
   "execution_count": 444,
   "metadata": {
    "collapsed": false,
    "deletable": true,
    "editable": true
   },
   "outputs": [
    {
     "name": "stdout",
     "output_type": "stream",
     "text": [
      "ROC: 0.774750\n",
      "ROC: 0.780070\n",
      "ROC: 0.775067\n",
      "ROC: 0.773718\n",
      "ROC: 0.786743\n",
      "ROC: 0.770891\n",
      "ROC: 0.792110\n",
      "Mean: 0.779050\n"
     ]
    },
    {
     "data": {
      "image/png": "[encoded data removed]",
      "text/plain": [
       "<matplotlib.figure.Figure at 0x7fd304254320>"
      ]
     },
     "metadata": {},
     "output_type": "display_data"
    }
   ],
   "source": [
    "from sklearn.ensemble import RandomForestClassifier\n",
    "eval_model(RandomForestClassifier(), X, y)"
   ]
  },
  {
   "cell_type": "code",
   "execution_count": 445,
   "metadata": {
    "collapsed": false,
    "deletable": true,
    "editable": true
   },
   "outputs": [
    {
     "name": "stdout",
     "output_type": "stream",
     "text": [
      "ROC: 0.859631\n",
      "ROC: 0.862674\n",
      "ROC: 0.862551\n",
      "ROC: 0.862817\n",
      "ROC: 0.867800\n",
      "ROC: 0.859775\n",
      "ROC: 0.873475\n",
      "Mean: 0.864103\n"
     ]
    },
    {
     "data": {
      "image/png": "[encoded data removed]",
      "text/plain": [
       "<matplotlib.figure.Figure at 0x7fd304576c88>"
      ]
     },
     "metadata": {},
     "output_type": "display_data"
    }
   ],
   "source": [
    "from sklearn.ensemble import GradientBoostingClassifier\n",
    "eval_model(GradientBoostingClassifier(), X, y)"
   ]
  },
  {
   "cell_type": "markdown",
   "metadata": {
    "deletable": true,
    "editable": true
   },
   "source": [
    "**Position 410-ish**"
   ]
  },
  {
   "cell_type": "code",
   "execution_count": 446,
   "metadata": {
    "collapsed": false,
    "deletable": true,
    "editable": true
   },
   "outputs": [
    {
     "name": "stdout",
     "output_type": "stream",
     "text": [
      "ROC: 0.860832\n",
      "ROC: 0.863749\n",
      "ROC: 0.863120\n",
      "ROC: 0.863601\n",
      "ROC: 0.869017\n",
      "ROC: 0.860142\n",
      "ROC: 0.874356\n",
      "Mean: 0.864974\n"
     ]
    },
    {
     "data": {
      "image/png": "[encoded data removed]",
      "text/plain": [
       "<matplotlib.figure.Figure at 0x7fd304345128>"
      ]
     },
     "metadata": {},
     "output_type": "display_data"
    }
   ],
   "source": [
    "eval_model(GradientBoostingClassifier(\n",
    "    loss='deviance',\n",
    "    learning_rate=0.1,\n",
    "    n_estimators=200,\n",
    "    subsample=1.0,\n",
    "    min_samples_split=2,\n",
    "    min_samples_leaf=1,\n",
    "    min_weight_fraction_leaf=0.0,\n",
    "    max_depth=3,\n",
    "    init=None,\n",
    "    random_state=None,\n",
    "    max_features=None,\n",
    "    verbose=0,\n",
    "), X, y)"
   ]
  },
  {
   "cell_type": "markdown",
   "metadata": {
    "deletable": true,
    "editable": true
   },
   "source": [
    "By changing the parameters, we can reach **position 250-ish**"
   ]
  },
  {
   "cell_type": "markdown",
   "metadata": {
    "deletable": true,
    "editable": true
   },
   "source": [
    "## Alternative evaluation method: Confusion Matrix"
   ]
  },
  {
   "cell_type": "code",
   "execution_count": 498,
   "metadata": {
    "collapsed": false,
    "deletable": true,
    "editable": true
   },
   "outputs": [],
   "source": [
    "from sklearn.metrics import confusion_matrix"
   ]
  },
  {
   "cell_type": "code",
   "execution_count": 534,
   "metadata": {
    "collapsed": false,
    "deletable": true,
    "editable": true
   },
   "outputs": [],
   "source": [
    "def fits_probas_tests(mod, X, y, CVNFOLDS=3):\n",
    "    cv = StratifiedKFold(y, n_folds=CVNFOLDS)\n",
    "    tests = []\n",
    "    probas = []\n",
    "    fits = []\n",
    "\n",
    "    for i, (training, test) in enumerate(cv):\n",
    "        fit = mod.fit(X.iloc[training], y.iloc[training])\n",
    "        fits.append(fit)\n",
    "        probas.append(fit.predict_proba(X.iloc[test]))\n",
    "        tests.append(y.iloc[test])\n",
    "    return fits, probas, tests"
   ]
  },
  {
   "cell_type": "code",
   "execution_count": 535,
   "metadata": {
    "collapsed": true,
    "deletable": true,
    "editable": true
   },
   "outputs": [],
   "source": [
    "def probas_2_bin(X):\n",
    "    res = []\n",
    "    for i, v in enumerate(X):\n",
    "        if v > 0.5:\n",
    "            res.append(1)\n",
    "        else:\n",
    "            res.append(0)\n",
    "    return res"
   ]
  },
  {
   "cell_type": "code",
   "execution_count": 538,
   "metadata": {
    "collapsed": false,
    "deletable": true,
    "editable": true
   },
   "outputs": [],
   "source": [
    "fit, probas, tests = fits_probas_tests(GradientBoostingClassifier(\n",
    "    loss='deviance',\n",
    "    learning_rate=0.1,\n",
    "    n_estimators=200,\n",
    "    subsample=1.0,\n",
    "    min_samples_split=2,\n",
    "    min_samples_leaf=1,\n",
    "    min_weight_fraction_leaf=0.0,\n",
    "    max_depth=3,\n",
    "    init=None,\n",
    "    random_state=None,\n",
    "    max_features=None,\n",
    "    verbose=0,\n",
    "), X, y)"
   ]
  },
  {
   "cell_type": "code",
   "execution_count": 539,
   "metadata": {
    "collapsed": false,
    "deletable": true,
    "editable": true
   },
   "outputs": [
    {
     "name": "stdout",
     "output_type": "stream",
     "text": [
      "[[46157   501]\n",
      " [ 2679   663]]\n"
     ]
    }
   ],
   "source": [
    "cm = confusion_matrix(tests[0], probas_2_bin(probas[0][:, 1]))\n",
    "# cm = cm.astype('float') / cm.sum(axis=1)[:, np.newaxis]\n",
    "print(cm)"
   ]
  },
  {
   "cell_type": "code",
   "execution_count": null,
   "metadata": {
    "collapsed": true,
    "deletable": true,
    "editable": true
   },
   "outputs": [],
   "source": []
  },
  {
   "cell_type": "code",
   "execution_count": null,
   "metadata": {
    "collapsed": true,
    "deletable": true,
    "editable": true
   },
   "outputs": [],
   "source": []
  }
 ],
 "metadata": {
  "kernelspec": {
   "display_name": "Python 3",
   "language": "python",
   "name": "python3"
  },
  "language_info": {
   "codemirror_mode": {
    "name": "ipython",
    "version": 3
   },
   "file_extension": ".py",
   "mimetype": "text/x-python",
   "name": "python",
   "nbconvert_exporter": "python",
   "pygments_lexer": "ipython3",
   "version": "3.5.2"
  }
 },
 "nbformat": 4,
 "nbformat_minor": 2
}
